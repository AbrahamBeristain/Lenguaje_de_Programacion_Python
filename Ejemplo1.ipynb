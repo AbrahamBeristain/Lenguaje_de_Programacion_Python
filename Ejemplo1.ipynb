{
  "nbformat": 4,
  "nbformat_minor": 0,
  "metadata": {
    "colab": {
      "provenance": [],
      "mount_file_id": "1YGFPf9Mv2IdfIvqaGMxnZ2Q5ft1gpA7i",
      "authorship_tag": "ABX9TyM1FyoN8ws3Yj3bziANhY1C",
      "include_colab_link": true
    },
    "kernelspec": {
      "name": "python3",
      "display_name": "Python 3"
    },
    "language_info": {
      "name": "python"
    }
  },
  "cells": [
    {
      "cell_type": "markdown",
      "metadata": {
        "id": "view-in-github",
        "colab_type": "text"
      },
      "source": [
        "<a href=\"https://colab.research.google.com/github/AbrahamBeristain/Lenguaje_de_Programacion_Python/blob/main/Ejemplo1.ipynb\" target=\"_parent\"><img src=\"https://colab.research.google.com/assets/colab-badge.svg\" alt=\"Open In Colab\"/></a>"
      ]
    },
    {
      "cell_type": "code",
      "execution_count": null,
      "metadata": {
        "id": "uLG_MzcXzzl4"
      },
      "outputs": [],
      "source": [
        "print(\"Hola mundo\")"
      ]
    }
  ]
}