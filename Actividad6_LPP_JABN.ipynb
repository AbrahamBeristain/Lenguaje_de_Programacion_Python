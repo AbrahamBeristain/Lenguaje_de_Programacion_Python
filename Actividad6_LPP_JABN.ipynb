{
  "nbformat": 4,
  "nbformat_minor": 0,
  "metadata": {
    "colab": {
      "provenance": [],
      "authorship_tag": "ABX9TyPxXi3HzG2ty5CMSJM6aiZV",
      "include_colab_link": true
    },
    "kernelspec": {
      "name": "python3",
      "display_name": "Python 3"
    },
    "language_info": {
      "name": "python"
    }
  },
  "cells": [
    {
      "cell_type": "markdown",
      "metadata": {
        "id": "view-in-github",
        "colab_type": "text"
      },
      "source": [
        "<a href=\"https://colab.research.google.com/github/AbrahamBeristain/Lenguaje_de_Programacion_Python/blob/main/Actividad6_LPP_JABN.ipynb\" target=\"_parent\"><img src=\"https://colab.research.google.com/assets/colab-badge.svg\" alt=\"Open In Colab\"/></a>"
      ]
    },
    {
      "cell_type": "markdown",
      "source": [
        "**ACTIVIDAD 6**\n",
        "\n",
        "*(ciclos y funciones)*\n",
        "\n",
        "FUNCIONES PARA SER LLAMADAS EN EL MENU"
      ],
      "metadata": {
        "id": "qbsFkaye2T47"
      }
    },
    {
      "cell_type": "code",
      "source": [
        "from IPython.display import clear_output\n",
        "import random"
      ],
      "metadata": {
        "id": "YiCxjCTdA_Ki"
      },
      "execution_count": 38,
      "outputs": []
    },
    {
      "cell_type": "code",
      "source": [
        "def valiNum(msge, vi=0, vf=1001):\n",
        "    entrar = True\n",
        "    while entrar:\n",
        "        try:\n",
        "            num = int(input(f\"{msge} \"))\n",
        "            entrar = False\n",
        "        except:\n",
        "            print(\"Introduce solo numeros.\")\n",
        "            entrar = True\n",
        "        \n",
        "        if num<vi or num>vf:\n",
        "                print(\"Numero fuera del rango\")\n",
        "    return num\n"
      ],
      "metadata": {
        "id": "LCGn3jnB2uc8"
      },
      "execution_count": 25,
      "outputs": []
    },
    {
      "cell_type": "code",
      "source": [
        "def menu():\n",
        "    clear_output()\n",
        "    print(\"MENU\")\n",
        "    print(\"1.- CANTIDAD DE NÚMEROS HASTA QUE EL USUARIO LO DESEE.\")\n",
        "    print(\"2.- NUMERO PARES E IMPARES.\")\n",
        "    print(\"3.- RANGO DADO POR EL USUARIO.\")\n",
        "    print(\"4.- AREA DE UN TRIANGULO.\")\n",
        "    print(\"5.- EVALUAR EL PROMEDIO.\")\n",
        "    print(\"0.- SALIR\")\n",
        "    op = int(input(\"Escoge una opcion: \"))\n",
        "\n",
        "    return op\n"
      ],
      "metadata": {
        "id": "gfhWPyTeAmmp"
      },
      "execution_count": 34,
      "outputs": []
    },
    {
      "cell_type": "code",
      "source": [
        "def opciones():\n",
        "    op = 1\n",
        "    while op != 0:\n",
        "        op = menu()\n",
        "        if op == 1:\n",
        "            nCantidad()\n",
        "        elif op == 2:\n",
        "            numerosImpares()\n",
        "        elif op == 3:\n",
        "            rango()\n",
        "        elif op == 4:\n",
        "            triangulo()\n",
        "        elif op == 5:\n",
        "            promedio()\n",
        "    \n",
        "    print(\"Saliendo...\")"
      ],
      "metadata": {
        "id": "hbXhdd6BFlxh"
      },
      "execution_count": 55,
      "outputs": []
    },
    {
      "cell_type": "code",
      "source": [
        "#1.- FUNCIÓN QUE LEA n CANTIDAD DE NÚMEROS HASTA QUE EL USUARIO LO DESEE.\n",
        "\n",
        "def nCantidad():\n",
        "    print(\"\")\n",
        "    print(\"Cantidad de numeros hasta que el usuario lo desee.\")\n",
        "    entrar = True\n",
        "    suma = 0\n",
        "    i = 0\n",
        "    numMayor = -1\n",
        "    numMenor = 1002\n",
        "    while entrar:\n",
        "        msge = \"Introduce un numero: \"\n",
        "        num = valiNum(msge)\n",
        "        suma += num\n",
        "        i += 1\n",
        "        if num >= numMayor:\n",
        "            num = numMayor\n",
        "        if num <= numMenor:\n",
        "            num = numMenor\n",
        "\n",
        "        msge = \"Introduce 0 para salir o 1 para continuar\"\n",
        "        bandera = valiNum(msge, vi=0, vf=1)\n",
        "        if bandera == 0:\n",
        "            entrar = False\n",
        "    \n",
        "    print(f\"La suma de los numeros es: {suma}\")\n",
        "    print(f\"La media es: {suma/i:.2f}\")\n",
        "    print(f\"El numero mayor es: {numMayor}\")\n",
        "    print(f\"El numero menor es: {numMenor}\")\n",
        "    input(\"Presiona una tecla para continuar...\")"
      ],
      "metadata": {
        "id": "qo1o2uMtYvrs"
      },
      "execution_count": 39,
      "outputs": []
    },
    {
      "cell_type": "code",
      "source": [
        "#2.- FUNCIÓN QUE GENERE 15 NÚMEROS IMPARES ENTRE 10 Y 60 o MÁXIMO DE 25 NÚMEROS.\n",
        "\n",
        "def numerosImpares():\n",
        "    print(\"\")\n",
        "    print(\"Numero impares\")\n",
        "    i = 0\n",
        "    impar = 0\n",
        "    num = 0\n",
        "    suma_Par = 0\n",
        "    suma_Impar = 0\n",
        "    while impar<=15 and i<25:\n",
        "        num = random.randint(10,60)\n",
        "        i += 1\n",
        "        if num %2 != 0:\n",
        "            impar += 1\n",
        "            print(f\"{i} --> {num} ES IMPAR\")\n",
        "            suma_Impar += num\n",
        "        else:\n",
        "            print(f\"{i} --> {num} ES PAR\")\n",
        "            suma_Par += num\n",
        "\n",
        "    print(f\"La media de los pares es: {suma_Par/(i-impar):.2f}\")\n",
        "    print(f\"La media de los pares es: {suma_Impar/i:.2f}\")\n",
        "    input(\"Presiona una tecla para continuar...\")"
      ],
      "metadata": {
        "id": "qRL9SWRASkgC"
      },
      "execution_count": 40,
      "outputs": []
    },
    {
      "cell_type": "code",
      "source": [
        "#3.-FUNCIÓN QUE SIRVA PARA LEER UN RANGO DADO POR EL USUARIO. REPETIR ESTA \n",
        "#ACCIÓN HASTA QUE EL USUARIO LO DESEE.\n",
        "\n",
        "def rango():\n",
        "    print(\"\")\n",
        "    print(\"Leer rango.\")\n",
        "    entrar = True\n",
        "    i = 0\n",
        "    suma = 0\n",
        "    \n",
        "    while entrar:\n",
        "        vi = int(input(\"Introduce el valor incial del rango: \"))\n",
        "        vf = int(input(\"Introduce el valor final del rango: \"))\n",
        "        msge = \"Introduce un numero para validar: \"\n",
        "        num = valiNum(msge, vi, vf)\n",
        "        i += 1\n",
        "        suma += num\n",
        "\n",
        "        msge = \"Introduce 0 para salir o 1 para continuar\"\n",
        "        bandera = valiNum(msge, vi=0, vf=1)\n",
        "        if bandera == 0:\n",
        "            entrar = False\n",
        "\n",
        "    print(f\"La cantidad de numeros es: {suma}\")\n",
        "    print(f\"El promedio de los numeros es: {suma/i:.2f}\")\n",
        "    input(\"Presiona una tecla para continuar...\")"
      ],
      "metadata": {
        "id": "II_CfyEcY7BF"
      },
      "execution_count": 41,
      "outputs": []
    },
    {
      "cell_type": "code",
      "source": [
        "#4.- FUNCIÓN QUE RECIBA COMO PARÁMETRO LOS VALORES PARA EL ÁREA DE UN \n",
        "#TRIANGULO Y RETORNE SU RESULTADO\n",
        "\n",
        "def triangulo():\n",
        "    print(\"\")\n",
        "    print(\"Area de un triangulo.\")\n",
        "    msge = \"Introdue la base del triangulo: \"\n",
        "    base = valiNum(msge)\n",
        "    msge = \"Introduce la altura del triangulo: \"\n",
        "    altura = valiNum(msge)\n",
        "    area = (base*altura)/2\n",
        "    print(f\"El area del triangulo es {area:.2f}\")\n",
        "    input(\"Presiona una tecla para continuar...\")"
      ],
      "metadata": {
        "id": "IkEC_VFnZK2p"
      },
      "execution_count": 42,
      "outputs": []
    },
    {
      "cell_type": "code",
      "source": [
        "#5.- FUNCION QUE SIRVA QUE SIRVA PARA EVALUAR EL PROMEDIO DE 3 CALIFICACIONES DADAS.\n",
        "def promedio():\n",
        "    print(\"\")\n",
        "    print(\"Evaluar promedio.\")\n",
        "    suma = 0\n",
        "    j = 0\n",
        "    prom = 0\n",
        "    while prom<=60 and j<3:\n",
        "        j += 1\n",
        "        suma = 0\n",
        "        for i in range(0,3,1):\n",
        "            msge = f\"Calificacion {i+1}: \"\n",
        "            cal = valiNum(msge, vi=0, vf=100)\n",
        "            suma += cal\n",
        "\n",
        "\n",
        "        prom = suma / 3\n",
        "        print(f\"El promedio es: {prom:.2f}\")\n",
        "\n",
        "        if prom >= 60:\n",
        "            print(f\"Aprobaste. Felicidades, pasas al siguiente semestre.\")\n",
        "        else:\n",
        "            if j<3:\n",
        "                print(\"Reprobaste. Te toca repetir la materia.\")\n",
        "            else:\n",
        "                print(\"Lastima estas fuera de la UABC. Se te acabaron los intentos.\")\n",
        "    input(\"Presiona una tecla para continuar...\")"
      ],
      "metadata": {
        "id": "rlE_1BBVZQml"
      },
      "execution_count": 57,
      "outputs": []
    },
    {
      "cell_type": "code",
      "source": [
        "opciones()"
      ],
      "metadata": {
        "id": "ykDzzNeCaPkh",
        "colab": {
          "base_uri": "https://localhost:8080/"
        },
        "outputId": "909f9e7f-6b3f-4448-aa1a-c7977afaa7f0"
      },
      "execution_count": null,
      "outputs": [
        {
          "output_type": "stream",
          "name": "stdout",
          "text": [
            "MENU\n",
            "1.- CANTIDAD DE NÚMEROS HASTA QUE EL USUARIO LO DESEE.\n",
            "2.- NUMERO PARES E IMPARES.\n",
            "3.- RANGO DADO POR EL USUARIO.\n",
            "4.- AREA DE UN TRIANGULO.\n",
            "5.- EVALUAR EL PROMEDIO.\n",
            "0.- SALIR\n",
            "Escoge una opcion: 5\n",
            "\n",
            "Evaluar promedio.\n",
            "Calificacion 1: : 50\n",
            "Calificacion 2: : 50\n",
            "Calificacion 3: : 50\n",
            "El promedio es: 50.00\n",
            "Reprobaste. Te toca repetir la materia.\n",
            "Calificacion 1: : 50\n",
            "Calificacion 2: : 50\n",
            "Calificacion 3: : 50\n",
            "El promedio es: 50.00\n",
            "Reprobaste. Te toca repetir la materia.\n",
            "Calificacion 1: : 100\n",
            "Calificacion 2: : 100\n",
            "Calificacion 3: : 100\n",
            "El promedio es: 100.00\n",
            "Aprobaste. Felicidades, pasas al siguiente semestre.\n"
          ]
        }
      ]
    }
  ]
}