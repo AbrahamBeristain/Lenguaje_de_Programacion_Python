{
  "nbformat": 4,
  "nbformat_minor": 0,
  "metadata": {
    "colab": {
      "provenance": [],
      "authorship_tag": "ABX9TyNLrl4Nh2DJAts1Xeya0sl4",
      "include_colab_link": true
    },
    "kernelspec": {
      "name": "python3",
      "display_name": "Python 3"
    },
    "language_info": {
      "name": "python"
    }
  },
  "cells": [
    {
      "cell_type": "markdown",
      "metadata": {
        "id": "view-in-github",
        "colab_type": "text"
      },
      "source": [
        "<a href=\"https://colab.research.google.com/github/AbrahamBeristain/Lenguaje_de_Programacion_Python/blob/main/JABN_PY_exa1.ipynb\" target=\"_parent\"><img src=\"https://colab.research.google.com/assets/colab-badge.svg\" alt=\"Open In Colab\"/></a>"
      ]
    },
    {
      "cell_type": "markdown",
      "source": [
        "\n",
        "\n",
        "Escribe una funcion de Python en collaboratory que realice lo siguiente:\n",
        "\n",
        "funcion que retorne un numero dentro de un rango dado, validar el numero que cumpla el requisito del rango, la funcion debera validar que el programa no marque error por introducir informacion erronea (usar try except)\n",
        "\n",
        "Escribir codigo que mande llamar la funcion y desplegar el resultado\n",
        "\n"
      ],
      "metadata": {
        "id": "VW9aIdbPrjMy"
      }
    },
    {
      "cell_type": "code",
      "source": [
        "def validar_rango(ri, rf, num):\n",
        "    if(num >= ri):\n",
        "        if(num <= rf):\n",
        "            print(\"Numero dentro del rango\")\n",
        "            return num\n",
        "        else:\n",
        "            print(\"Numero fuera del rango\")\n",
        "    else:\n",
        "        print(\"Numero fuera del rango\")\n",
        "\n",
        "\n",
        "band = True \n",
        "while(band == True):\n",
        "    try:\n",
        "        ri =  int(input(\"Introduce el rango inicial: \"))\n",
        "        rf =  int(input(\"Introduce el rango final: \"))\n",
        "        num = int(input(\"Introduce el numero a evaluar: \"))\n",
        "        band = False \n",
        "    except:\n",
        "        print(\"Valores no validos\")\n",
        "num_Valido = validar_rango(ri, rf, num)\n",
        "print(f\"El numero {num_Valido} se ecuentra dentro del rango!\")\n",
        "\n",
        "\n",
        "\n",
        "\n"
      ],
      "metadata": {
        "colab": {
          "base_uri": "https://localhost:8080/"
        },
        "id": "fEcch-Rirku1",
        "outputId": "c36b7155-a222-4f34-9a97-4987087c6236"
      },
      "execution_count": 4,
      "outputs": [
        {
          "output_type": "stream",
          "name": "stdout",
          "text": [
            "Introduce el rango inicial: 1\n",
            "Introduce el rango final: 100\n",
            "Introduce el numero a evaluar: 45\n",
            "Numero dentro del rango\n",
            "El numero 45 se ecuentra dentro del rango!\n"
          ]
        }
      ]
    },
    {
      "cell_type": "markdown",
      "source": [
        "Escribe una funcion de Python en collaboratory que realice lo siguiente:\n",
        "\n",
        "funcion que retorne el factorial de un numero dado \n",
        "\n",
        "Escribir codigo que mande llamar la funcion y desplegar el resultado,"
      ],
      "metadata": {
        "id": "q5gDTQ6wzOac"
      }
    },
    {
      "cell_type": "code",
      "source": [
        "def factorial(numero):\n",
        "    factorial = 1\n",
        "    for i in range(1, numero + 1):\n",
        "        factorial = factorial * i\n",
        "    return factorial\n",
        "\n",
        "band = True\n",
        "while band == True:\n",
        "    try:\n",
        "        num = int(input(\"Introduce un numero para calcular su factorial: \"))\n",
        "        band = False\n",
        "    except:\n",
        "        print(\"Valores no validos\")\n",
        "resul_fact = factorial(num)\n",
        "print(f\"El factorial de {num} es: {resul_fact}\")"
      ],
      "metadata": {
        "colab": {
          "base_uri": "https://localhost:8080/"
        },
        "id": "odF338Quzx8H",
        "outputId": "7b74b1f3-9929-44da-c46c-b09d9fe5d960"
      },
      "execution_count": 18,
      "outputs": [
        {
          "output_type": "stream",
          "name": "stdout",
          "text": [
            "Introduce un numero para calcular su factorial: 5\n",
            "El factorial de 5 es: 120\n"
          ]
        }
      ]
    },
    {
      "cell_type": "markdown",
      "source": [
        "Escribe una funcion de Python en collaboratory que realice lo siguiente:\n",
        "\n",
        "funcion que retorne el resultado del area de un triangulo\n",
        "\n",
        "Escribir codigo que mande llamar la funcion y desplegar el resultado,\n",
        "\n",
        "VALIDAR da tos entrada"
      ],
      "metadata": {
        "id": "5dpq8Ux43dAJ"
      }
    },
    {
      "cell_type": "code",
      "source": [
        "def area(b,h):\n",
        "    area = (b * h)/2\n",
        "    return area\n",
        "\n",
        "\n",
        "band = True\n",
        "while band == True:\n",
        "    try:\n",
        "        base = int(input(\"Introduce la base del triangulo: \"))\n",
        "        altura = int(input(\"Introduce la altura del triangulo: \"))\n",
        "        band = False\n",
        "    except:\n",
        "        print(\"Valores no validos\")\n",
        "\n",
        "resul_area = area(base, altura)\n",
        "print(f\"El area del triangulo es: {resul_area}\")"
      ],
      "metadata": {
        "colab": {
          "base_uri": "https://localhost:8080/"
        },
        "id": "f-0c8vnr3cTx",
        "outputId": "046d4f91-63e1-48c7-a376-6671a52a1fd9"
      },
      "execution_count": 21,
      "outputs": [
        {
          "output_type": "stream",
          "name": "stdout",
          "text": [
            "Introduce la base del triangulo: 10\n",
            "Introduce la altura del triangulo: 10\n",
            "El area del triangulo es: 50.0\n"
          ]
        }
      ]
    }
  ]
}