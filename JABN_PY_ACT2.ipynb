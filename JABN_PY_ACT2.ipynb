{
  "nbformat": 4,
  "nbformat_minor": 0,
  "metadata": {
    "colab": {
      "provenance": [],
      "authorship_tag": "ABX9TyM8xL2agO0vGJefnPAXkwrK",
      "include_colab_link": true
    },
    "kernelspec": {
      "name": "python3",
      "display_name": "Python 3"
    },
    "language_info": {
      "name": "python"
    }
  },
  "cells": [
    {
      "cell_type": "markdown",
      "metadata": {
        "id": "view-in-github",
        "colab_type": "text"
      },
      "source": [
        "<a href=\"https://colab.research.google.com/github/AbrahamBeristain/Lenguaje_de_Programacion_Python/blob/main/JABN_PY_ACT2.ipynb\" target=\"_parent\"><img src=\"https://colab.research.google.com/assets/colab-badge.svg\" alt=\"Open In Colab\"/></a>"
      ]
    },
    {
      "cell_type": "markdown",
      "source": [
        "# **ACTIVIDAD 2**\n",
        "**ESTRUCTURAS DE CONTROL DE SELECCIÓN SIMPLE**\n",
        "\n",
        "\n",
        "\n",
        "\n",
        "\n"
      ],
      "metadata": {
        "id": "5OxcIW1tRFxb"
      }
    },
    {
      "cell_type": "markdown",
      "source": [
        "**CONDICIONES SIMPLES:**"
      ],
      "metadata": {
        "id": "5h7NM5KqR068"
      }
    },
    {
      "cell_type": "markdown",
      "source": [
        "1.- Programa en Python que lea 2 números enteros, usar una condición y analizar los dos números y desplegar cual de los números es el mayor.\n"
      ],
      "metadata": {
        "id": "5haUh6XTStC8"
      }
    },
    {
      "cell_type": "code",
      "source": [
        "num1 = int(input(\"Introduce el primer numero: \"))\n",
        "num2 = int(input(\"Introduce el segundo numero: \"))\n",
        "num_Mayor = num1 \n",
        "\n",
        "if (num1 > num2):\n",
        "      print(f\"El primer numero es el mayor: {num1}\")\n",
        "  \n",
        "if (num2 > num1):\n",
        "      print(f\"El segundo numero es el mayor: {num2}\")\n",
        "  \n"
      ],
      "metadata": {
        "id": "dorSIP4XVrxL"
      },
      "execution_count": null,
      "outputs": []
    },
    {
      "cell_type": "markdown",
      "source": [
        "2.- Programa en PythonAlgoritmo que lea 4 calificaciones de un alumno, calcular y desplegar el promedio acompañado de la leyenda \"APROBADO\" o \"REPROBADO\""
      ],
      "metadata": {
        "id": "pQNyj9eMUgC_"
      }
    },
    {
      "cell_type": "code",
      "source": [
        "cal1 = float(input(\"Introduce la primera calificación: \"))\n",
        "cal2 = float(input(\"Introduce la primera calificación: \"))\n",
        "cal3 = float(input(\"Introduce la primera calificación: \"))\n",
        "cal4 = float(input(\"Introduce la primera calificación: \"))\n",
        "\n",
        "prom = (cal1 + cal2 + cal3 + cal4) / 4\n",
        "\n",
        "if(prom >= 60):\n",
        "      print(f\"Promedio: {prom}\")\n",
        "      print(\"APROBADO\")\n",
        "  \n",
        "if(prom < 60):\n",
        "      print(f\"Promedio: {prom}\")\n",
        "      print(\"REPROBADO.\")\n"
      ],
      "metadata": {
        "id": "4qAIm_2XeQNv"
      },
      "execution_count": null,
      "outputs": []
    },
    {
      "cell_type": "markdown",
      "source": [
        "3.- Programa en PythonAlgoritmo que a través de opciones (1.- HOMBRE 2.- MUJER ) preguntar al usuario cual es su sexo y desplegar la leyenda “HOMBRE ”, “MUJER”\n",
        "\n"
      ],
      "metadata": {
        "id": "FY6S_BhNUgUv"
      }
    },
    {
      "cell_type": "code",
      "source": [
        "print(\"Opciones:\")\n",
        "print(\"1.-HOMBRE\")\n",
        "print(\"2-MUJER\")\n",
        "\n",
        "sexo = int(input(\"¿Cuál es tu sexo?\"))\n",
        "\n",
        "if(sexo == 1):\n",
        "  print(\"HOMBRE\")\n",
        "\n",
        "if(sexo == 2):\n",
        "  print(\"MUJER\")\n"
      ],
      "metadata": {
        "id": "sgSv1Tp7iTDf"
      },
      "execution_count": null,
      "outputs": []
    },
    {
      "cell_type": "markdown",
      "source": [
        "4.- Programa en Python que lea un número entero, y desplegar si el número es “PAR” o “IMPAR”."
      ],
      "metadata": {
        "id": "DXF4oO0IUgYx"
      }
    },
    {
      "cell_type": "code",
      "source": [
        "num = int(input(\"Introduce un numero entero: \"))\n",
        "\n",
        "if(num%2==0):\n",
        "  print(\"El numero es par.\")\n",
        "\n",
        "if(num%2!=0):\n",
        "  print(\"El numero es impar.\")"
      ],
      "metadata": {
        "colab": {
          "base_uri": "https://localhost:8080/"
        },
        "id": "qDmOyDYOi-EU",
        "outputId": "7c15a879-927f-4735-c887-3061f0c5f112"
      },
      "execution_count": 26,
      "outputs": [
        {
          "output_type": "stream",
          "name": "stdout",
          "text": [
            "Introduce un numero entero: 13\n",
            "El numero es impar.\n"
          ]
        }
      ]
    },
    {
      "cell_type": "markdown",
      "source": [
        "**CONDICIONES COMPUESTAS:**"
      ],
      "metadata": {
        "id": "A9up3Z4CUsem"
      }
    },
    {
      "cell_type": "markdown",
      "source": [
        "5.- Programa en Python que lea 2 números enteros, usar una condición y analizar los dos números y desplegar cual de los números es el mayor."
      ],
      "metadata": {
        "id": "NnjGoji9U8PC"
      }
    },
    {
      "cell_type": "code",
      "source": [
        "num1 = int(input(\"Introduce el primer numero: \"))\n",
        "num2 = int(input(\"Introduce el segundo numero: \")) \n",
        "\n",
        "if (num1 > num2):\n",
        "      print(f\"El primer numero es el mayor: {num1}\")\n",
        "else:\n",
        "      print(f\"El segundo numero es el mayor: {num1}\")"
      ],
      "metadata": {
        "id": "4TwAyJVUc2iT"
      },
      "execution_count": null,
      "outputs": []
    },
    {
      "cell_type": "markdown",
      "source": [
        "6.- Programa en Python que lea 4 calificaciones de un alumno, calcular y desplegar el promedio acompañado de la leyenda APROBADO o REPROBADO."
      ],
      "metadata": {
        "id": "cPhhMbAaU-VK"
      }
    },
    {
      "cell_type": "code",
      "source": [
        "cal1 = float(input(\"Introduce la primera calificación: \"))\n",
        "cal2 = float(input(\"Introduce la primera calificación: \"))\n",
        "cal3 = float(input(\"Introduce la primera calificación: \"))\n",
        "cal4 = float(input(\"Introduce la primera calificación: \"))\n",
        "\n",
        "prom = (cal1 + cal2 + cal3 + cal4) / 4\n",
        "\n",
        "if(prom >= 60):\n",
        "  print(f\"Promedio: {prom}\")\n",
        "  print(\"APROBADO.\")\n",
        "else:\n",
        "  print(f\"Promedio: {prom}\")\n",
        "  print(\"REPROBADO.\")\n",
        "  \n",
        "      "
      ],
      "metadata": {
        "id": "4oSR4HaCkNRj"
      },
      "execution_count": null,
      "outputs": []
    },
    {
      "cell_type": "markdown",
      "source": [
        "7.- Programa en Python que a través de opciones (1.- HOMBRE 2.- MUJER ) preguntar al usuario cual es su sexo y desplegar la leyenda “HOMBRE ”, “MUJER”"
      ],
      "metadata": {
        "id": "vmZFxDrFU-lI"
      }
    },
    {
      "cell_type": "code",
      "source": [
        "print(\"Opciones:\")\n",
        "print(\"1.-HOMBRE\")\n",
        "print(\"2-MUJER\")\n",
        "\n",
        "sexo = int(input(\"¿Cuál es tu sexo?\"))\n",
        "\n",
        "if(sexo == 1):\n",
        "  print(\"HOMBRE\")\n",
        "else:\n",
        "  print(\"MUJER\")"
      ],
      "metadata": {
        "id": "AXC0jf51lpy-"
      },
      "execution_count": null,
      "outputs": []
    },
    {
      "cell_type": "markdown",
      "source": [
        "8.- Programa en Python que lea un número entero, y desplegar si el número es “PAR” o “IMPAR”"
      ],
      "metadata": {
        "id": "PQhdYuUxU-rG"
      }
    },
    {
      "cell_type": "code",
      "source": [
        "num = int(input(\"Introduce un numero entero: \"))\n",
        "\n",
        "if(num%2==0):\n",
        "  print(\"El numero es par.\")\n",
        "else:\n",
        "  print(\"El numero es impar.\")"
      ],
      "metadata": {
        "id": "AmgxD8Fbl6Nq"
      },
      "execution_count": null,
      "outputs": []
    }
  ]
}