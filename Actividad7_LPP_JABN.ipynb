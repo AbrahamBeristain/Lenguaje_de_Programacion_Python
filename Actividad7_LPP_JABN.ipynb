{
  "nbformat": 4,
  "nbformat_minor": 0,
  "metadata": {
    "colab": {
      "provenance": [],
      "authorship_tag": "ABX9TyOXZS6QE0obPqDRghMGmOsq",
      "include_colab_link": true
    },
    "kernelspec": {
      "name": "python3",
      "display_name": "Python 3"
    },
    "language_info": {
      "name": "python"
    }
  },
  "cells": [
    {
      "cell_type": "markdown",
      "metadata": {
        "id": "view-in-github",
        "colab_type": "text"
      },
      "source": [
        "<a href=\"https://colab.research.google.com/github/AbrahamBeristain/Lenguaje_de_Programacion_Python/blob/main/Actividad7_LPP_JABN.ipynb\" target=\"_parent\"><img src=\"https://colab.research.google.com/assets/colab-badge.svg\" alt=\"Open In Colab\"/></a>"
      ]
    },
    {
      "cell_type": "markdown",
      "source": [
        "Lenguaje de Programación en Python\n",
        "\n",
        "**ACTIVIDAD 7**"
      ],
      "metadata": {
        "id": "bJ6pJbZPyK3z"
      }
    },
    {
      "cell_type": "code",
      "source": [
        "#ACTIVIDAD 7\n",
        "import random\n",
        "from IPython.display import clear_output"
      ],
      "metadata": {
        "id": "UMr62Bzbyew4"
      },
      "execution_count": 13,
      "outputs": []
    },
    {
      "cell_type": "code",
      "source": [
        "def valida_num(msge,msgError2=\"INGRESA UN VALOR NUMERICO ENTERO\"):\n",
        "    while True:\n",
        "        try:\n",
        "            num = int(input(f\"{msge}\"))\n",
        "        except:\n",
        "            print (msgError2)\n",
        "            continue\n",
        "        else:\n",
        "            break\n",
        "    return num"
      ],
      "metadata": {
        "id": "OLD71bKIyepJ"
      },
      "execution_count": 14,
      "outputs": []
    },
    {
      "cell_type": "code",
      "source": [
        "#1.-unción que utilice una lista con los nombres de tus mascotas, o artistas favoritos, (minimo 5, maximo 10) \n",
        "#imprimir las cadenas y la cantidad de caracteres de cada cadena.  \n",
        "def lista_mascotas():\n",
        "    clear_output()\n",
        "    print(\"LISTA DE MASCOTAS: \")\n",
        "    lista_mascotas = [\"Paolo\",\"Pepe\",\"Bombon\",\"Sonia\",\"Camilo\",\"Feo\"]\n",
        "    for i,cadena in enumerate(lista_mascotas):\n",
        "        print (f\" {[i]}{cadena} --> {len(cadena)} CARACTERES\")"
      ],
      "metadata": {
        "id": "cPqsUoseyehZ"
      },
      "execution_count": 15,
      "outputs": []
    },
    {
      "cell_type": "code",
      "source": [
        "#2.-Programa que utilice 2 funciones, \n",
        "#Función que genere y regrese una lista con 10 números aleatorios entre el 30 y 50 (no repetidos). \n",
        "#Función que reciba una lista , Imprimir la lista (Indice y Valor ) \n",
        "# Mandar llamar la función e imprimir toda la lista. \n",
        "\n",
        "def lista_aleatoria():\n",
        "    clear_output()\n",
        "    lista_random = []\n",
        "    while len(lista_random) < 10:\n",
        "        numero = random.randint(30, 50)\n",
        "        if numero not in lista_random:\n",
        "            lista_random.append(numero)\n",
        "    print(f\"Lista con aleatorios = {lista_random}\")\n",
        "    return lista_random\n",
        "def lista_indices():\n",
        "    clear_output()\n",
        "    print(\"LISTA CON INDICE Y VALOR\")\n",
        "    lista = []\n",
        "    tam = valida_num(\"Ingresa que tamaño deseas que tenga la lista:\")\n",
        "    for i in range(tam):\n",
        "        num = valida_num(f\"Ingresa el valor {i}: \")\n",
        "        lista.append(num)\n",
        "    print(\"Lista con indice y valores: \")\n",
        "    for indice, valor in enumerate(lista):\n",
        "        print(f\"[{indice}]: {valor}\")"
      ],
      "metadata": {
        "id": "lg3D7b2KyeV-"
      },
      "execution_count": 16,
      "outputs": []
    },
    {
      "cell_type": "code",
      "source": [
        "#3.- función que reciba dos listas de números del mismo tamaño y calcule la suma de los elementos correspondientes de cada lista.\n",
        "def suma_listas_padre():\n",
        "    clear_output()\n",
        "    print(\"SUMA LISTAS\")\n",
        "    def suma_listas(lista1,lista2):\n",
        "        if len(lista1) != len(lista2):\n",
        "            print(\"Las listas tienen diferente tamaño, se utilizara la lista más pequeña\")\n",
        "            tam = min(len(lista1), len(lista2))\n",
        "        else:\n",
        "            tam = len(lista1)\n",
        "        \n",
        "        suma_listas = []\n",
        "        for i in range(tam):\n",
        "            suma = lista1[i] + lista2[i]\n",
        "            suma_listas.append(suma)\n",
        "        print(f\"Suma listas = {suma_listas}\")\n",
        "\n",
        "    lista1 = []\n",
        "    lista2 = []\n",
        " \n",
        "    tam_l1 = valida_num(\"Ingresa el tamaño para la lista 1: \")\n",
        "    for i in range(tam_l1):\n",
        "        num = valida_num(f\"[{i}].-Ingresa un numero entero: \")\n",
        "        lista1.append(num)\n",
        "    tam_l2 = valida_num(\"Ingresa el tamaño para la lista 2: \")\n",
        "    for i in range(tam_l2):\n",
        "        num = valida_num(f\"[{i}]Ingresa un numero entero: \")\n",
        "        lista2.append(num)\n",
        "    print(f\"Lista 1 : {lista1}\")\n",
        "    print(f\"Lista 2 : {lista2}\")\n",
        "    suma_listas(lista1,lista2)"
      ],
      "metadata": {
        "id": "nUMzEDzIydaO"
      },
      "execution_count": 17,
      "outputs": []
    },
    {
      "cell_type": "code",
      "source": [
        "#4.-función llamada eliminar_duplicados que reciba una lista como parámetro y elimine los elementos duplicados\n",
        "def duplicados():\n",
        "    clear_output()\n",
        "    print(\"ELIMINAR DUPLICADOS DE UNA LISTA\")\n",
        "    def eliminar_duplicados(lista):\n",
        "        clear_output()\n",
        "        nueva_lista = []\n",
        "        for elemento in lista:\n",
        "            if elemento not in nueva_lista:\n",
        "                nueva_lista.append(elemento)\n",
        "        print(f\"Lista anterior = {lista}\")\n",
        "        print(f\"Nueva lista sin duplicados = {nueva_lista}\")\n",
        "\n",
        "    lista = []\n",
        "    tam_l = valida_num(\"Ingresa el tamaño para la lista: \")\n",
        "    for i in range(tam_l):\n",
        "        num = valida_num(f\"[{i}].-Ingresa un numero entero: \")\n",
        "        lista.append(num)\n",
        "    \n",
        "    eliminar_duplicados(lista)"
      ],
      "metadata": {
        "id": "BlhHJzlgydST"
      },
      "execution_count": 18,
      "outputs": []
    },
    {
      "cell_type": "code",
      "source": [
        "#5.- función que calcule la media y la mediana de una lista de números enteros.\n",
        "def media_mediana(): \n",
        "    clear_output()\n",
        "    print(\"MEDIA Y MEDIANA DE UNA LISTA\")   \n",
        "    def calcular_media_mediana(lista):\n",
        "        \n",
        "        tam = len(lista)\n",
        "        lista_ordenada = sorted(lista)\n",
        "        \n",
        "        media = sum(lista) / tam\n",
        "        \n",
        "        if tam%2 == 0:\n",
        "            mediana = (lista_ordenada[tam//2 - 1] + lista_ordenada[tam//2]) / 2\n",
        "        else:\n",
        "            mediana = lista_ordenada[tam//2]\n",
        "        print(f\"La media es: {media}\")\n",
        "        print(f\"La mediana es: {mediana}\")\n",
        "    lista = []\n",
        "    tam_l = valida_num(\"Ingresa el tamaño para la lista: \")\n",
        "    for i in range(tam_l):\n",
        "        num = valida_num(f\"[{i}].-Ingresa un numero entero: \")\n",
        "        lista.append(num)\n",
        "    print(f\"Lista = {lista}\")\n",
        "    calcular_media_mediana(lista)"
      ],
      "metadata": {
        "id": "qLy1WKRGydLd"
      },
      "execution_count": 19,
      "outputs": []
    },
    {
      "cell_type": "code",
      "source": [
        "#6.- Escribe una función que calcule la media móvil de una lista de números enteros\n",
        "def med_movil_padre():\n",
        "    clear_output()\n",
        "    print(\"MEDIA MOVIL\")\n",
        "    def media_movil(lista, n):\n",
        "        lista_medias = []\n",
        "        for i in range(len(lista) - n + 1):\n",
        "            suma = 0\n",
        "            print(f\"Sublista {i+1}: {lista[i:i+n:]}\")\n",
        "            suma = sum(lista[i:i+n:])\n",
        "            print(f\"Media movil de la sublista {i+1}: {suma/n} \")\n",
        "            lista_medias.append(suma / n)\n",
        "        return lista_medias\n",
        "    lista = []\n",
        "    tam_l = valida_num(\"Ingresa el tamaño para la lista: \")\n",
        "    for i in range(tam_l):\n",
        "        num = valida_num(f\"[{i}].-Ingresa un numero entero: \")\n",
        "        lista.append(num)\n",
        "    n = valida_num(\"Ingresa de cuantos elementos consecutivos deseas calcular la media movil: \")\n",
        "\n",
        "    \n",
        "    lista_medias = media_movil(lista, n)\n",
        "    print(f\"Lista media movil: {lista_medias}\")"
      ],
      "metadata": {
        "id": "JZaD6kuaydDi"
      },
      "execution_count": 20,
      "outputs": []
    },
    {
      "cell_type": "code",
      "source": [
        "def menu():\n",
        "    print(\"MENU:\")\n",
        "    print(\"1.-LISTA MASCOTAS\")\n",
        "    print(\"2.-FUNCION LISTA CON NUMEROS ALEATORIOS Y FUNCION LISTA INDICE Y VALOR\")\n",
        "    print(\"3.-SUMA LISTAS\")\n",
        "    print(\"4.-ELIMINAR DUPLICADOS DE UNA LISTA\")\n",
        "    print(\"5.-MEDIA Y MEDIANA DE UNA LISTA\")\n",
        "    print(\"6.-MEDIA MOVIL DE UNA LISTA\")\n",
        "    print(\"0.-SALIR\")"
      ],
      "metadata": {
        "id": "AL2itaBSyc8J"
      },
      "execution_count": 21,
      "outputs": []
    },
    {
      "cell_type": "code",
      "source": [
        "def submenu_programas2():\n",
        "    while True:\n",
        "        clear_output()\n",
        "        print(\"SUBMENU\")\n",
        "        print(\"1.-LISTA CON NUMEROS ALEATORIOS\")\n",
        "        print(\"2.-LISTA QUE RECIBE UNA LISTA E IMPRIME INDICE Y VALOR\")\n",
        "        print(\"0.-SALIR AL MENU\")\n",
        "        op = valida_num(\"Ingresa la funcion que deseas utilizar: \")\n",
        "        if op == 1:\n",
        "            lista_aleatoria()\n",
        "            input(\"Presiona ENTER para borrar la pantalla\")\n",
        "            clear_output()\n",
        "            continue\n",
        "        elif op == 2:\n",
        "            lista_indices()\n",
        "            input(\"Presiona ENTER para borrar la pantalla\")\n",
        "            clear_output()\n",
        "        elif op == 0:\n",
        "            clear_output()\n",
        "            break"
      ],
      "metadata": {
        "id": "9YWHISMZycyU"
      },
      "execution_count": 22,
      "outputs": []
    },
    {
      "cell_type": "code",
      "source": [
        "#EJECUCION DE TODAS LAS FUNCIONES(MAIN)\n",
        "while True:\n",
        "    menu()\n",
        "    op = valida_num(\"Ingresa la funcion que deseas utilizar: \")\n",
        "    if op == 1:\n",
        "        lista_mascotas()\n",
        "        input(\"Presiona ENTER para borrar la pantalla\")\n",
        "        clear_output()\n",
        "        continue\n",
        "    elif op == 2:\n",
        "        submenu_programas2()\n",
        "        continue\n",
        "    elif op == 3:\n",
        "        suma_listas_padre()\n",
        "        input(\"Presiona ENTER para borrar la pantalla\")\n",
        "        clear_output()\n",
        "        continue\n",
        "    elif op == 4:\n",
        "        duplicados()\n",
        "        input(\"Presiona ENTER para borrar la pantalla\")\n",
        "        clear_output()\n",
        "    elif op == 5:\n",
        "        media_mediana()\n",
        "        input(\"Presiona ENTER para borrar la pantalla\")\n",
        "        clear_output()\n",
        "    elif op == 6:\n",
        "        med_movil_padre()\n",
        "        input(\"Presiona ENTER para borrar la pantalla\")\n",
        "        clear_output()\n",
        "    elif op == 0:\n",
        "        break"
      ],
      "metadata": {
        "colab": {
          "base_uri": "https://localhost:8080/"
        },
        "id": "5pmWLXOkycpO",
        "outputId": "f081a5a2-7dda-499a-dbf5-bf547f68f152"
      },
      "execution_count": null,
      "outputs": [
        {
          "output_type": "stream",
          "name": "stdout",
          "text": [
            "LISTA DE MASCOTAS: \n",
            " [0]Paolo --> 5 CARACTERES\n",
            " [1]Pepe --> 4 CARACTERES\n",
            " [2]Bombon --> 6 CARACTERES\n",
            " [3]Sonia --> 5 CARACTERES\n",
            " [4]Camilo --> 6 CARACTERES\n",
            " [5]Feo --> 3 CARACTERES\n"
          ]
        }
      ]
    }
  ]
}