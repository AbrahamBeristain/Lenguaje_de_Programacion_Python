{
  "nbformat": 4,
  "nbformat_minor": 0,
  "metadata": {
    "colab": {
      "provenance": [],
      "authorship_tag": "ABX9TyMT2xIFO1iVEvBjjJc4FIZU",
      "include_colab_link": true
    },
    "kernelspec": {
      "name": "python3",
      "display_name": "Python 3"
    },
    "language_info": {
      "name": "python"
    }
  },
  "cells": [
    {
      "cell_type": "markdown",
      "metadata": {
        "id": "view-in-github",
        "colab_type": "text"
      },
      "source": [
        "<a href=\"https://colab.research.google.com/github/AbrahamBeristain/Lenguaje_de_Programacion_Python/blob/main/Actividad8_LPP_JABN.ipynb\" target=\"_parent\"><img src=\"https://colab.research.google.com/assets/colab-badge.svg\" alt=\"Open In Colab\"/></a>"
      ]
    },
    {
      "cell_type": "markdown",
      "source": [
        "Lenguaje de Programación en Python\n",
        "\n",
        " \n",
        "\n",
        "**ACTIVIDAD 8**"
      ],
      "metadata": {
        "id": "GwvRZRFe-182"
      }
    },
    {
      "cell_type": "code",
      "source": [
        "from IPython.display import clear_output\n",
        "import random"
      ],
      "metadata": {
        "id": "fRgcdur0_jjK"
      },
      "execution_count": null,
      "outputs": []
    },
    {
      "cell_type": "code",
      "source": [
        "def vali_Num(msge, ri=0, rf=1001):\n",
        "    entrar = True \n",
        "    while entrar:\n",
        "        try:\n",
        "            num = int(input(f\"{msge} \"))\n",
        "            entrar = False\n",
        "        except:\n",
        "            print(\"Introduce solo numeros enteros.\")\n",
        "            entrar = True \n",
        "            continue\n",
        "        \n",
        "        if num<ri or num>rf:\n",
        "            print(\"Numero fuera del rango.\")\n",
        "            entrar = True\n",
        "    \n",
        "    return num"
      ],
      "metadata": {
        "id": "ggMLZBt1C3ig"
      },
      "execution_count": null,
      "outputs": []
    },
    {
      "cell_type": "code",
      "source": [
        "#1.- Programa en python que genere un número entre el 1 y 10 (no visible) \n",
        "# preguntarle al usuario que número cree que generó la computadora.\n",
        "jugar = 1\n",
        "while(jugar == 1):\n",
        "    num_Oculto = random.randint(1,10)\n",
        "    msge = \"Introduce un numero entre 1 y 10 que creas que haya generado la compu: \"\n",
        "    clear_output()\n",
        "    for i in range(0,3,1):\n",
        "        num_Usuario = vali_Num(msge, 1, 10)\n",
        "        \n",
        "        if(num_Oculto == num_Usuario):\n",
        "            print(\"Felcidades. Advinaste el numero.\")\n",
        "            break\n",
        "        else:\n",
        "            if(i == 2):\n",
        "                print(\"Perdiste. Se te acabaron los intentos.\")\n",
        "                print(f\"El numero generado era {num_Oculto} \")\n",
        "            else:\n",
        "                print(f\"No adivinaste el numero. Te quedan {2-i} intentos.\")\n",
        "\n",
        "    msge = \"Introduce 1 para volver a jugar o 0 para salir: \"\n",
        "    jugar = vali_Num(msge, 0, 1)\n",
        "\n",
        " "
      ],
      "metadata": {
        "id": "uREi9RxtEP4-"
      },
      "execution_count": null,
      "outputs": []
    },
    {
      "cell_type": "code",
      "source": [
        "#2.- El juego Busca Número muestra una lista de 10 numeros, \n",
        "#sin mostrar su contenido. Al usuario se le muestra un número que \n",
        "#se generó aleatoriamente y el usuario tendrá 3 intentos de adivinar \n",
        "# en qué índice del arreglo se encuentra. \n"
      ],
      "metadata": {
        "id": "K32kFnpREkcL"
      },
      "execution_count": null,
      "outputs": []
    }
  ]
}