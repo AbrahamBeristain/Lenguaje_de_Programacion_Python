{
  "nbformat": 4,
  "nbformat_minor": 0,
  "metadata": {
    "colab": {
      "provenance": [],
      "authorship_tag": "ABX9TyNauLEe+0YeRvrP35n2cLMC",
      "include_colab_link": true
    },
    "kernelspec": {
      "name": "python3",
      "display_name": "Python 3"
    },
    "language_info": {
      "name": "python"
    }
  },
  "cells": [
    {
      "cell_type": "markdown",
      "metadata": {
        "id": "view-in-github",
        "colab_type": "text"
      },
      "source": [
        "<a href=\"https://colab.research.google.com/github/AbrahamBeristain/Lenguaje_de_Programacion_Python/blob/main/Actividad8_LPP_JABN.ipynb\" target=\"_parent\"><img src=\"https://colab.research.google.com/assets/colab-badge.svg\" alt=\"Open In Colab\"/></a>"
      ]
    },
    {
      "cell_type": "markdown",
      "source": [
        "Lenguaje de Programación en Python\n",
        "\n",
        " \n",
        "\n",
        "**ACTIVIDAD 8**"
      ],
      "metadata": {
        "id": "GwvRZRFe-182"
      }
    },
    {
      "cell_type": "code",
      "source": [
        "from IPython.display import clear_output\n",
        "import random"
      ],
      "metadata": {
        "id": "fRgcdur0_jjK"
      },
      "execution_count": 1,
      "outputs": []
    },
    {
      "cell_type": "code",
      "source": [
        "def vali_Num(msge, ri=0, rf=1001):\n",
        "    entrar = True \n",
        "    while entrar:\n",
        "        try:\n",
        "            num = int(input(f\"{msge} \"))\n",
        "            entrar = False\n",
        "        except:\n",
        "            print(\"Introduce solo numeros enteros.\")\n",
        "            entrar = True \n",
        "            continue\n",
        "        \n",
        "        if num<ri or num>rf:\n",
        "            print(\"Numero fuera del rango.\")\n",
        "            entrar = True\n",
        "    \n",
        "    return num"
      ],
      "metadata": {
        "id": "ggMLZBt1C3ig"
      },
      "execution_count": 2,
      "outputs": []
    },
    {
      "cell_type": "code",
      "source": [
        "#1.- Programa en python que genere un número entre el 1 y 10 (no visible) \n",
        "# preguntarle al usuario que número cree que generó la computadora.\n",
        "jugar = 1\n",
        "ganados = 0\n",
        "perdidos = 0\n",
        "while(jugar == 1):\n",
        "    clear_output()\n",
        "    num_Oculto = random.randint(1,10)\n",
        "    msge = \"Introduce un numero entre 1 y 10 que creas que haya generado la compu: \"\n",
        "    for i in range(0,3,1):\n",
        "        num_Usuario = vali_Num(msge, 1, 10)\n",
        "        \n",
        "        if(num_Oculto == num_Usuario):\n",
        "            print(\"Felcidades. Advinaste el numero.\")\n",
        "            ganados += 1\n",
        "            break\n",
        "        else:\n",
        "            if(i == 2):\n",
        "                print(\"Perdiste. Se te acabaron los intentos.\")\n",
        "                print(f\"El numero generado era {num_Oculto} \")\n",
        "                perdidos += 1\n",
        "            else:\n",
        "                print(f\"No adivinaste el numero. Te quedan {2-i} intentos.\")\n",
        "\n",
        "    msge = \"Quieres seguir jugando? \\n 1.-SI \\n 2.-NO \\n:\"\n",
        "    jugar = vali_Num(msge, 1, 2)\n",
        "\n",
        "print(f\"Ganaste {ganados} veces.\")\n",
        "print(f\"Perdiste {perdidos} veces.\")\n",
        " "
      ],
      "metadata": {
        "id": "uREi9RxtEP4-",
        "colab": {
          "base_uri": "https://localhost:8080/"
        },
        "outputId": "cab7eda3-9ad2-4cb9-e257-a827414cc89a"
      },
      "execution_count": 13,
      "outputs": [
        {
          "output_type": "stream",
          "name": "stdout",
          "text": [
            "Introduce un numero entre 1 y 10 que creas que haya generado la compu:  4\n",
            "No adivinaste el numero. Te quedan 2 intentos.\n",
            "Introduce un numero entre 1 y 10 que creas que haya generado la compu:  7\n",
            "No adivinaste el numero. Te quedan 1 intentos.\n",
            "Introduce un numero entre 1 y 10 que creas que haya generado la compu:  1\n",
            "Perdiste. Se te acabaron los intentos.\n",
            "El numero generado era 9 \n",
            "Quieres seguir jugando? \n",
            " 1.-SI \n",
            " 2.-NO \n",
            ": 2\n",
            "Ganaste 0 veces.\n",
            "Perdiste 1 veces.\n"
          ]
        }
      ]
    },
    {
      "cell_type": "code",
      "source": [
        "#2.- El juego Busca Número muestra una lista de 10 numeros, \n",
        "#sin mostrar su contenido. Al usuario se le muestra un número que \n",
        "#se generó aleatoriamente y el usuario tendrá 3 intentos de adivinar \n",
        "# en qué índice del arreglo se encuentra."
      ],
      "metadata": {
        "id": "-i4tK-RaaeG8"
      },
      "execution_count": null,
      "outputs": []
    },
    {
      "cell_type": "code",
      "source": [
        "# Llenado con ciclos.\n",
        "def llenado_Ciclos():\n",
        "    lista = []\n",
        "    for i in range(10):\n",
        "        band = True\n",
        "        while band==True:\n",
        "            num = random.randint(0,9)\n",
        "            j = 0\n",
        "            band = False\n",
        "            while j<i and band==False:\n",
        "                if num == lista[j]:\n",
        "                    band = True\n",
        "                j += 1\n",
        "        lista.append(num)\n",
        "    return lista"
      ],
      "metadata": {
        "id": "TpEIf-iFpQIg"
      },
      "execution_count": 11,
      "outputs": []
    },
    {
      "cell_type": "code",
      "source": [
        "# LLenado de lista con sample.\n",
        "def llenado_Sample():\n",
        "    lista = []\n",
        "    lista = random.sample(range(1, 11), 10)\n",
        "    return lista"
      ],
      "metadata": {
        "id": "KZLCCGz_pFsX"
      },
      "execution_count": 4,
      "outputs": []
    },
    {
      "cell_type": "code",
      "source": [
        "# LLenado de lista con shuffle.\n",
        "def llenado_Shuffle():\n",
        "    lista = list(range(1,11))\n",
        "    random.shuffle(lista)\n",
        "    return lista"
      ],
      "metadata": {
        "id": "Rz5kGYrVo3vB"
      },
      "execution_count": 5,
      "outputs": []
    },
    {
      "cell_type": "code",
      "source": [
        "def msges():\n",
        "    clear_output()\n",
        "    print(\"MENU JEUGO BUSCA NUMERO\")\n",
        "    print(\"1.-Lista random llenada con ciclos.\")\n",
        "    print(\"2.-Lista random llenada con sample.\")\n",
        "    print(\"3.-Lista random llenada con shuffle.\")\n",
        "    print(\"0.Salir.\")\n",
        "    msge = \"Escoge una opcion: \"\n",
        "    op = vali_Num(msge, 0, 3)\n",
        "    return op"
      ],
      "metadata": {
        "id": "WV1dT2ATXZBj"
      },
      "execution_count": 6,
      "outputs": []
    },
    {
      "cell_type": "code",
      "source": [
        "# Adivinar numero.\n",
        "def adivinar_Numero(lista):\n",
        "    pos_Real = random.randint(0,9)\n",
        "    num_Adivinar = lista[pos_Real]\n",
        "    print(f\"El numero que se genero es el {num_Adivinar}, intenta adivinar su posicion del 0 al 9\")\n",
        "    for i in range(3):\n",
        "        msge = \"Introduce en que posicion crees que esta: \"\n",
        "        pos = vali_Num(msge, 0, 9)\n",
        "        if lista[pos] == num_Adivinar:\n",
        "            print(\"Ganaste. El numero si se encunetra en esa posicion.\")\n",
        "            print(\" \", end=\"\")\n",
        "            for j in range(10):\n",
        "                print(f\" {j}\",end=\" \")\n",
        "            print(\"\\n\",lista)\n",
        "            break\n",
        "        else:\n",
        "            if i == 2:\n",
        "                print(\"Perdiste 3 veces. Ya no te quedan intentos.\")\n",
        "                print(f\"El numero se encontraba en la posicion {pos_Real}\")\n",
        "                print(\" \", end=\"\")\n",
        "                for k in range(10):\n",
        "                    print(f\" {k}\",end=\" \")\n",
        "                print(\"\\n\",lista)\n",
        "            else:\n",
        "                print(f\"No le atinaste. Te quedan {2-i} intentos.\")\n",
        "    input(\"Presiona una tecla para continuar...\")"
      ],
      "metadata": {
        "id": "LWTCk6zCtURR"
      },
      "execution_count": 7,
      "outputs": []
    },
    {
      "cell_type": "code",
      "source": [
        "def menu():\n",
        "    op = 1\n",
        "    while op != 0:\n",
        "        op = msges()\n",
        "        if op==1:\n",
        "            print(\"Lista random llenada con ciclos.\")\n",
        "            lista = llenado_Ciclos()\n",
        "            adivinar_Numero(lista)\n",
        "        elif op==2:\n",
        "            print(\"Lista random llenada con sample.\")\n",
        "            lista = llenado_Sample()\n",
        "            adivinar_Numero(lista)\n",
        "        elif op==3:\n",
        "            print(\"Lista random llenada con shuffle.\")\n",
        "            lista = llenado_Shuffle()\n",
        "            adivinar_Numero(lista)\n",
        "\n",
        "    input(\"Saliendo...\")"
      ],
      "metadata": {
        "id": "aunvJijMaBnr"
      },
      "execution_count": 8,
      "outputs": []
    },
    {
      "cell_type": "code",
      "source": [
        "menu()"
      ],
      "metadata": {
        "id": "SS80pTNa4eL2",
        "colab": {
          "base_uri": "https://localhost:8080/"
        },
        "outputId": "d4e08299-542a-4e7c-c77f-35ffeaaa221e"
      },
      "execution_count": null,
      "outputs": [
        {
          "output_type": "stream",
          "name": "stdout",
          "text": [
            "MENU JEUGO BUSCA NUMERO\n",
            "1.-Lista random llenada con ciclos.\n",
            "2.-Lista random llenada con sample.\n",
            "3.-Lista random llenada con shuffle.\n",
            "0.Salir.\n",
            "Escoge una opcion:  1\n",
            "Lista random llenada con ciclos.\n",
            "El numero que se genero es el 2, intenta adivinar su posicion del 0 al 9\n",
            "Introduce en que posicion crees que esta:  4\n",
            "No le atinaste. Te quedan 2 intentos.\n",
            "Introduce en que posicion crees que esta:  3\n",
            "No le atinaste. Te quedan 1 intentos.\n",
            "Introduce en que posicion crees que esta:  1\n",
            "Perdiste 3 veces. Ya no te quedan intentos.\n",
            "El numero se encontraba en la posicion 8\n",
            "  0  1  2  3  4  5  6  7  8  9 \n",
            " [3, 9, 7, 8, 5, 1, 6, 4, 2, 0]\n"
          ]
        }
      ]
    }
  ]
}