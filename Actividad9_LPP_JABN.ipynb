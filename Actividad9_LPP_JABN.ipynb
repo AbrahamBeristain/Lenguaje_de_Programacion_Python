{
  "cells": [
    {
      "cell_type": "markdown",
      "metadata": {
        "id": "view-in-github",
        "colab_type": "text"
      },
      "source": [
        "<a href=\"https://colab.research.google.com/github/AbrahamBeristain/Lenguaje_de_Programacion_Python/blob/main/Actividad9_LPP_JABN.ipynb\" target=\"_parent\"><img src=\"https://colab.research.google.com/assets/colab-badge.svg\" alt=\"Open In Colab\"/></a>"
      ]
    },
    {
      "cell_type": "markdown",
      "metadata": {
        "id": "uQCE2pLoVIxl"
      },
      "source": [
        "Lenguaje de Programación en Python\n",
        "\n",
        "**ACTIVIDAD 9**"
      ]
    },
    {
      "cell_type": "code",
      "execution_count": 1,
      "metadata": {
        "id": "UpbzJPP3VSOR"
      },
      "outputs": [],
      "source": [
        "from IPython.display import clear_output\n",
        "import random "
      ]
    },
    {
      "cell_type": "code",
      "execution_count": 2,
      "metadata": {
        "id": "2UJu2jKRYbxq"
      },
      "outputs": [],
      "source": [
        "def vali_Num(msge, ri=0, rf=1001):\n",
        "    entrar = True \n",
        "    while entrar:\n",
        "        try:\n",
        "            num = int(input(f\"{msge} \"))\n",
        "            entrar = False\n",
        "        except:\n",
        "            print(\"Introduce solo numeros enteros.\")\n",
        "            entrar = True \n",
        "            continue\n",
        "        \n",
        "        if num<ri or num>rf:\n",
        "            print(\"Numero fuera del rango.\")\n",
        "            entrar = True\n",
        "    \n",
        "    return num"
      ]
    },
    {
      "cell_type": "code",
      "execution_count": 3,
      "metadata": {
        "id": "B4LArdzjXaB6"
      },
      "outputs": [],
      "source": [
        "def crear_dic():\n",
        "    registro = [\"Matricula\",\"Nombre\",\"Ap.Paterno\",\"Ap.Materno\",\"Edad\",\"Sexo\"]\n",
        "    matricula = [368747,369226,368911,366239,369754,368933]\n",
        "    nombre = [\"Isai Alexis\",\"Jose Abraham\",\"Marcelo\",\"Nancy Maria\",\"Samantha\",\"Roberto\"]\n",
        "    appaterno = [\"Arredondo\",\"Beristain\",\"Marquez\",\"Siqueiros\",\"Perez\",\"Meraz\"]\n",
        "    apmaterno = [\"Urbalejo\",\"Navarro\",\"Ontiveros\",\"Chavez\",\"Peña\",\"Quintero\"]\n",
        "    edad = [21,19,19,20,20,20]\n",
        "    sexo = [\"H\",\"H\",\"H\",\"M\",\"M\",\"H\"]\n",
        "    nrandom = random.randint(0,5)\n",
        "    dic = dict(zip(registro,[matricula[nrandom],nombre[nrandom],appaterno[nrandom],apmaterno[nrandom],edad[nrandom],sexo[nrandom]]))\n",
        "    print(\"Se creo el diccionario.\")\n",
        "\n",
        "    return dic"
      ]
    },
    {
      "cell_type": "code",
      "execution_count": 4,
      "metadata": {
        "id": "LFfGcqEvXcde"
      },
      "outputs": [],
      "source": [
        "def imprimir_dic(dic):\n",
        "    print(\"{:<20}{:<20}{:<20}{:<20}{:<20}{}\".format(\"Matricula\",\"Nombre\",\"Ap.Paterno\",\"Ap.Materno\",\"Edad\",\"Sexo\"))\n",
        "    print(\"{:<20}{:<20}{:<20}{:<20}{:<20}{}\".format(dic['Matricula'],dic['Nombre'],dic['Ap.Paterno'],dic['Ap.Materno'],dic['Edad'],dic['Sexo']))"
      ]
    },
    {
      "cell_type": "code",
      "execution_count": 5,
      "metadata": {
        "id": "f7HMGQRKXjUn"
      },
      "outputs": [],
      "source": [
        "def menu():\n",
        "    print(\"MENU:\")\n",
        "    print(\"1.-CREAR DICCIONARIO\")\n",
        "    print(\"2.-IMPRIMIR DICCIONARIO\")\n",
        "    print(\"0.-SALIR\")"
      ]
    },
    {
      "cell_type": "code",
      "execution_count": null,
      "metadata": {
        "colab": {
          "base_uri": "https://localhost:8080/"
        },
        "id": "IyexqGqFb5md",
        "outputId": "3198f6a3-bc8d-4636-aca7-374d8e37d8a2"
      },
      "outputs": [
        {
          "output_type": "stream",
          "name": "stdout",
          "text": [
            "MENU:\n",
            "1.-CREAR DICCIONARIO\n",
            "2.-IMPRIMIR DICCIONARIO\n",
            "0.-SALIR\n",
            "Ingresa la funcion que deseas utilizar:  2\n",
            "Matricula           Nombre              Ap.Paterno          Ap.Materno          Edad                Sexo\n",
            "369226              Jose Abraham        Beristain           Navarro             19                  H\n"
          ]
        }
      ],
      "source": [
        "creado = 0\n",
        "while True:\n",
        "    menu()\n",
        "    op = vali_Num(\"Ingresa la funcion que deseas utilizar: \", 0, 2)\n",
        "    if op == 1:\n",
        "        dic = crear_dic()\n",
        "        creado = 1\n",
        "        input(\"Presiona ENTER para borrar la pantalla\")\n",
        "        clear_output()\n",
        "        continue\n",
        "    elif op == 2:\n",
        "        if creado == 1:\n",
        "            imprimir_dic(dic)\n",
        "            input(\"Presiona ENTER para borrar la pantalla\")\n",
        "            clear_output()\n",
        "        else:\n",
        "            print(\"No has creado un diccionario.\")\n",
        "            input(\"Presiona ENTER para borrar la pantalla\")\n",
        "            clear_output()\n",
        "        continue\n",
        "    elif op == 0:\n",
        "        break"
      ]
    }
  ],
  "metadata": {
    "colab": {
      "provenance": [],
      "authorship_tag": "ABX9TyOBk3afgMj+b+XEDjSM/4y/",
      "include_colab_link": true
    },
    "kernelspec": {
      "display_name": "Python 3",
      "name": "python3"
    },
    "language_info": {
      "name": "python"
    }
  },
  "nbformat": 4,
  "nbformat_minor": 0
}