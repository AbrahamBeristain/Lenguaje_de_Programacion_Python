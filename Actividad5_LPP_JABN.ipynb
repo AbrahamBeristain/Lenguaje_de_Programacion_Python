{
  "nbformat": 4,
  "nbformat_minor": 0,
  "metadata": {
    "colab": {
      "provenance": [],
      "authorship_tag": "ABX9TyNoqNCTeozNMXM3lsNYWsjY",
      "include_colab_link": true
    },
    "kernelspec": {
      "name": "python3",
      "display_name": "Python 3"
    },
    "language_info": {
      "name": "python"
    }
  },
  "cells": [
    {
      "cell_type": "markdown",
      "metadata": {
        "id": "view-in-github",
        "colab_type": "text"
      },
      "source": [
        "<a href=\"https://colab.research.google.com/github/AbrahamBeristain/Lenguaje_de_Programacion_Python/blob/main/Actividad5_LPP_JABN.ipynb\" target=\"_parent\"><img src=\"https://colab.research.google.com/assets/colab-badge.svg\" alt=\"Open In Colab\"/></a>"
      ]
    },
    {
      "cell_type": "markdown",
      "source": [
        "**ACTIVIDAD 5**\n",
        "\n",
        "(try, for, range(), random())"
      ],
      "metadata": {
        "id": "qKIjJAea-dsy"
      }
    },
    {
      "cell_type": "markdown",
      "source": [
        "1.- Programa en Python que genere 40 números aleatorios entre el 0 y 200, desplegar los números y la leyenda de cada número si es par o impar , la cantidad de los números pares e impares así como la suma de los números pares o impares.\n"
      ],
      "metadata": {
        "id": "wbpXRGLCDh8P"
      }
    },
    {
      "cell_type": "code",
      "source": [
        "from random import randint\n",
        "par = 0\n",
        "suma_Par = 0\n",
        "suma_Impar = 0\n",
        "for i in range(40):\n",
        "    num = randint(0,200) \n",
        "    \n",
        "    if num %2 == 0:\n",
        "        print(f\"{i} -> {num} es par.\")\n",
        "        par += 1\n",
        "        suma_Par += num\n",
        "    else:\n",
        "        print(f\"{i} -> {num} es impar\")\n",
        "        suma_Impar += num\n",
        "\n",
        "print(f\"Cantidad de numero pares: {par}\")\n",
        "print(f\"Cantidad de numeros impares: {40-par}\")\n",
        "print(f\"La suma de los numeros par es = {suma_Par}\")\n",
        "print(f\"La suma de los numeros impar es = {suma_Impar}\")"
      ],
      "metadata": {
        "id": "3YDMJqg4POwu",
        "colab": {
          "base_uri": "https://localhost:8080/"
        },
        "outputId": "ac3eb2e0-3b04-459c-c15b-a69cba9570fa"
      },
      "execution_count": null,
      "outputs": [
        {
          "output_type": "stream",
          "name": "stdout",
          "text": [
            "0 -> 161 es impar\n",
            "1 -> 16 es par.\n",
            "2 -> 2 es par.\n",
            "3 -> 94 es par.\n",
            "4 -> 112 es par.\n",
            "5 -> 142 es par.\n",
            "6 -> 74 es par.\n",
            "7 -> 86 es par.\n",
            "8 -> 23 es impar\n",
            "9 -> 66 es par.\n",
            "10 -> 79 es impar\n",
            "11 -> 179 es impar\n",
            "12 -> 107 es impar\n",
            "13 -> 115 es impar\n",
            "14 -> 3 es impar\n",
            "15 -> 2 es par.\n",
            "16 -> 181 es impar\n",
            "17 -> 92 es par.\n",
            "18 -> 148 es par.\n",
            "19 -> 72 es par.\n",
            "20 -> 0 es par.\n",
            "21 -> 76 es par.\n",
            "22 -> 195 es impar\n",
            "23 -> 173 es impar\n",
            "24 -> 8 es par.\n",
            "25 -> 51 es impar\n",
            "26 -> 74 es par.\n",
            "27 -> 81 es impar\n",
            "28 -> 146 es par.\n",
            "29 -> 55 es impar\n",
            "30 -> 34 es par.\n",
            "31 -> 77 es impar\n",
            "32 -> 48 es par.\n",
            "33 -> 87 es impar\n",
            "34 -> 176 es par.\n",
            "35 -> 7 es impar\n",
            "36 -> 129 es impar\n",
            "37 -> 121 es impar\n",
            "38 -> 81 es impar\n",
            "39 -> 197 es impar\n",
            "Cantidad de numero pares: 20\n",
            "Cantidad de numeros impares: 20\n",
            "La suma de los numeros par es = 1468\n",
            "La suma de los numeros impar es = 2102\n"
          ]
        }
      ]
    },
    {
      "cell_type": "markdown",
      "source": [
        "2.- Programa en Python que despliegue la tabla de multiplicar de un número dado (número entre el 1 y 20)."
      ],
      "metadata": {
        "id": "jv_rDJrPDrwg"
      }
    },
    {
      "cell_type": "code",
      "source": [
        "import os\n",
        "\n",
        "num = int(input(\"Introduce un numero entre 1 y 20: \"))\n",
        "\n",
        "while(num<1 or num>20):\n",
        "    os.system(\"CLS\")\n",
        "    num = int(input(\"Introduce un numero entre 1 y 20: \"))\n",
        "\n",
        "for i in range(1,11):\n",
        "    print(f\"{num} * {i} = {num*i}\")"
      ],
      "metadata": {
        "colab": {
          "base_uri": "https://localhost:8080/"
        },
        "id": "qtmWxJuRLzBJ",
        "outputId": "425f4b55-a03b-46a3-a62f-4900ad1f6a49"
      },
      "execution_count": null,
      "outputs": [
        {
          "output_type": "stream",
          "name": "stdout",
          "text": [
            "Introduce un numero entre 1 y 20: 4\n",
            "4 * 1 = 4\n",
            "4 * 2 = 8\n",
            "4 * 3 = 12\n",
            "4 * 4 = 16\n",
            "4 * 5 = 20\n",
            "4 * 6 = 24\n",
            "4 * 7 = 28\n",
            "4 * 8 = 32\n",
            "4 * 9 = 36\n",
            "4 * 10 = 40\n"
          ]
        }
      ]
    },
    {
      "cell_type": "markdown",
      "source": [
        "3.- Programa en Python que lea una calificación, las calificación deberá estar en el rango de 0 a 100, si hay un error de captura, mostrar mensaje de error. con la calificación correcta mostrar msg de aprobado reprobado. "
      ],
      "metadata": {
        "id": "5EpMB2xADuWI"
      }
    },
    {
      "cell_type": "code",
      "source": [
        "try:\n",
        "    cal = int(input(\"Intoduce una calificacion entre 0 a 100: \"))\n",
        "except:\n",
        "    print(\"Introduce solo numeros.\")\n",
        "else:\n",
        "    if cal >= 60:\n",
        "        if cal > 100:\n",
        "            print(\"Error en la calificacion.\")\n",
        "        else:\n",
        "            print(\"Aprobado\")\n",
        "    else:\n",
        "        if cal > 0:\n",
        "            print(\"Reprobado.\")\n",
        "        else:\n",
        "            print(\"Error en la calificacion.\")\n"
      ],
      "metadata": {
        "colab": {
          "base_uri": "https://localhost:8080/"
        },
        "id": "1R4DIikHZHWr",
        "outputId": "7774a91d-b9c3-46bc-8201-5b0b83843ecb"
      },
      "execution_count": null,
      "outputs": [
        {
          "output_type": "stream",
          "name": "stdout",
          "text": [
            "Intoduce una calificacion entre 0 a 100: 111\n",
            "Error en la calificacion.\n"
          ]
        }
      ]
    },
    {
      "cell_type": "markdown",
      "source": [
        "4.- Programa en Python que lea n cantidad de números enteros dentro de un rango dado (> 0 ) , el programa deberá terminar cuando el usuario introduzca el número cero.\n",
        "\n",
        "desplegar la suma de números y la media."
      ],
      "metadata": {
        "id": "52E7Q_wxDufm"
      }
    },
    {
      "cell_type": "code",
      "source": [
        "num = 1\n",
        "suma = 0\n",
        "i = 0\n",
        "\n",
        "while num != 0:\n",
        "    num = int(input(\"Introduce un numero mayor que 0: \"))\n",
        "    suma += num\n",
        "    i += 1\n",
        "\n",
        "print(f\"La suma de los numeros es: {suma}\")\n",
        "print(f\"La media de los numeros es: {suma/(i-1)}\")"
      ],
      "metadata": {
        "id": "dx9DrpM8bMYQ",
        "colab": {
          "base_uri": "https://localhost:8080/"
        },
        "outputId": "6e33d08c-fed9-4b67-bba6-ad792302492f"
      },
      "execution_count": null,
      "outputs": [
        {
          "output_type": "stream",
          "name": "stdout",
          "text": [
            "Introduce un numero mayor que 0: 40\n",
            "Introduce un numero mayor que 0: 40\n",
            "Introduce un numero mayor que 0: 40\n",
            "Introduce un numero mayor que 0: 40\n",
            "Introduce un numero mayor que 0: 0\n",
            "La suma de los numeros es: 160\n",
            "La media de los numeros es: 40.0\n"
          ]
        }
      ]
    },
    {
      "cell_type": "markdown",
      "source": [
        "5.- Programa en Python que sirva para leer el promedio de una materia. donde el usuario tendrá un máximo de 3 oportunidades de cursar la materia, si el promedio es aprobado, felicitarlo y continuar el siguiente semestre, si promedio es reprobado deberá salir mensaje de repetir materia o es baja académica si ha reprobado 3 veces. "
      ],
      "metadata": {
        "id": "fUHZ2xcgDupm"
      }
    },
    {
      "cell_type": "code",
      "source": [
        "prom = 0\n",
        "i = 0\n",
        "\n",
        "while prom < 60:\n",
        "    i +=1\n",
        "    prom = int(input(\"Introduce el promedio de la materia: \"))\n",
        "    if i == 1:\n",
        "        if prom >= 60:\n",
        "            print(\"Felicidades. Aprobaste la materia.\")\n",
        "        else:\n",
        "            print(\"Reprobaste. Te toca repetir la materia\")\n",
        "    elif i == 2:\n",
        "        if prom >= 60:\n",
        "            print(\"Felicidades. Aprobaste la materia en tu segundo intento.\")\n",
        "        else:\n",
        "            print(\"Reprobaste. Te queda un intento.\")\n",
        "    elif i == 3:\n",
        "        if prom >= 60:\n",
        "            print(\"Felicidades. Aprobaste la materia en tu ultimo intento.\")\n",
        "        else:\n",
        "            print(\"Reprobaste 3 veces. Es baja academica.\")\n",
        "\n",
        "\n"
      ],
      "metadata": {
        "id": "IuNs3QvyfZ92",
        "colab": {
          "base_uri": "https://localhost:8080/"
        },
        "outputId": "1b622f2b-94df-481c-dc6d-6d21618cbdca"
      },
      "execution_count": 15,
      "outputs": [
        {
          "output_type": "stream",
          "name": "stdout",
          "text": [
            "Introduce el promedio de la materia: 50\n",
            "Reprobaste. Te toca repetir la materia\n",
            "Introduce el promedio de la materia: 50\n",
            "Reprobaste. Te queda un intento.\n",
            "Introduce el promedio de la materia: 60\n",
            "Felicidades. Aprobaste la materia en tu ultimo intento.\n"
          ]
        }
      ]
    },
    {
      "cell_type": "markdown",
      "source": [
        "**PARTE 2:**"
      ],
      "metadata": {
        "id": "23Z2ex7IDusc"
      }
    },
    {
      "cell_type": "markdown",
      "source": [
        "1.- función que lea n cantidad de números hasta que el usuario lo desee, desplegar la suma de los números, media y valor de los números mayores y menores."
      ],
      "metadata": {
        "id": "05S3DTbGEMls"
      }
    },
    {
      "cell_type": "code",
      "source": [
        "def numeros():\n",
        "    suma = 0\n",
        "    i = 0\n",
        "    num = int(input(\"Introduce un numero o introduce 0 para salir: \"))\n",
        "    suma += num\n",
        "    mayor = num\n",
        "    menor = num\n",
        "\n",
        "    while num != 0:\n",
        "        num = int(input(\"Introduce un numero o introduce 0 para salir: \"))\n",
        "        suma += num\n",
        "        i += 1\n",
        "        if num >= mayor:\n",
        "            mayor = num\n",
        "        if num <= menor and num != 0:\n",
        "            menor = num\n",
        "    \n",
        "    print(f\"La suma de los numero es: {suma}\")\n",
        "    print(f\"La media de los numeros es: {suma/(i):.2f}\")\n",
        "    print(f\"El numero mayor es: {mayor}\")\n",
        "    print(f\"El numero menor es: {menor}\")\n",
        "\n",
        "\n",
        "numeros()"
      ],
      "metadata": {
        "id": "ajjOnUjJZNdA",
        "colab": {
          "base_uri": "https://localhost:8080/"
        },
        "outputId": "3d3cd78b-9b15-4d83-88f7-56a52b3a1d53"
      },
      "execution_count": 17,
      "outputs": [
        {
          "output_type": "stream",
          "name": "stdout",
          "text": [
            "Introduce un numero o introduce 0 para salir: 10\n",
            "Introduce un numero o introduce 0 para salir: 20\n",
            "Introduce un numero o introduce 0 para salir: 30\n",
            "Introduce un numero o introduce 0 para salir: 40\n",
            "Introduce un numero o introduce 0 para salir: 50\n",
            "Introduce un numero o introduce 0 para salir: 60\n",
            "Introduce un numero o introduce 0 para salir: 70\n",
            "Introduce un numero o introduce 0 para salir: 80\n",
            "Introduce un numero o introduce 0 para salir: 90\n",
            "Introduce un numero o introduce 0 para salir: 100\n",
            "Introduce un numero o introduce 0 para salir: 0\n",
            "La suma de los numero es: 550\n",
            "La media de los numeros es: 55.00\n",
            "El numero mayor es: 100\n",
            "El numero menor es: 10\n"
          ]
        }
      ]
    },
    {
      "cell_type": "markdown",
      "source": [
        "2.- función que genere 15 números impares entre 10 y 60 o máximo de 25 números. desplegar la media de los pares y media de impares."
      ],
      "metadata": {
        "id": "lpCwwObnEMt8"
      }
    },
    {
      "cell_type": "code",
      "source": [
        "from random import randint\n",
        "\n",
        "def numerosImpar():\n",
        "    suma_Par = 0\n",
        "    suma_Impar = 0\n",
        "    impar = 0\n",
        "    i = 0\n",
        "    while impar<15 and i<25:\n",
        "        num = randint(10,60)\n",
        "        i += 1\n",
        "        if num %2 == 0:\n",
        "            print(f\"{i} --> {num} es par\")\n",
        "            suma_Par += num\n",
        "        else:\n",
        "            print(f\"{i} --> {num} es impar\")\n",
        "            suma_Impar += num\n",
        "            impar += 1\n",
        "        \n",
        "    print(f\"La media de los pares es: {suma_Par / (i-impar):.2f}\")\n",
        "    print(f\"La media de los impares es: {suma_Impar / impar:.2f}\")\n",
        "\n",
        "\n",
        "numerosImpar()\n"
      ],
      "metadata": {
        "colab": {
          "base_uri": "https://localhost:8080/"
        },
        "id": "KtXBo2PFpDlS",
        "outputId": "97f62bb8-1f08-49ac-864b-242ca0c470de"
      },
      "execution_count": null,
      "outputs": [
        {
          "output_type": "stream",
          "name": "stdout",
          "text": [
            "1 --> 25 es impar\n",
            "2 --> 32 es par\n",
            "3 --> 17 es impar\n",
            "4 --> 31 es impar\n",
            "5 --> 41 es impar\n",
            "6 --> 22 es par\n",
            "7 --> 38 es par\n",
            "8 --> 22 es par\n",
            "9 --> 42 es par\n",
            "10 --> 43 es impar\n",
            "11 --> 41 es impar\n",
            "12 --> 22 es par\n",
            "13 --> 11 es impar\n",
            "14 --> 47 es impar\n",
            "15 --> 23 es impar\n",
            "16 --> 59 es impar\n",
            "17 --> 18 es par\n",
            "18 --> 39 es impar\n",
            "19 --> 54 es par\n",
            "20 --> 60 es par\n",
            "21 --> 40 es par\n",
            "22 --> 48 es par\n",
            "23 --> 42 es par\n",
            "24 --> 46 es par\n",
            "25 --> 45 es impar\n",
            "La media de los pares es: 37.38\n",
            "La media de los impares es: 35.17\n"
          ]
        }
      ]
    },
    {
      "cell_type": "markdown",
      "source": [
        "3.- función que sirva para leer y validar un número dentro de un rango dado por el usuario. repetir esta acción hasta que el usuario lo desee, desplegar cantidad de números y promedio de los números.."
      ],
      "metadata": {
        "id": "Jf6vUlI7EM2M"
      }
    },
    {
      "cell_type": "code",
      "source": [
        "def numerosRango():\n",
        "    vi = int(input(\"Introduce el valor inicial del rango: \"))\n",
        "    vf = int(input(\"Introduce el valor final del rango: \"))\n",
        "\n",
        "    num = 1\n",
        "    suma = 0\n",
        "    i = 0\n",
        "    while num != 0:\n",
        "        num = int(input(\"Introduce un numero para validar o introduce 0 para salir: \"))\n",
        "        suma += num\n",
        "        i += 1\n",
        "        if num >= vi: \n",
        "            if num <= vf:\n",
        "                print(f\"El numero {num} esta dentro del rango.\")\n",
        "            else:\n",
        "                print(f\"El numero {num} esta fuera del rango.\")\n",
        "        else:\n",
        "            print(f\"El numero {num} esta fuera del rango.\")\n",
        "\n",
        "    print(\"Saliendo...\")\n",
        "    print(f\"La cantidad de numeros fue: {i-1}\")\n",
        "    try:\n",
        "        print(f\"El promedio de los numeros es: {suma/(i-1):.2f}\")\n",
        "    except:\n",
        "        print(\"No se puede sacar promedio.\")\n",
        "\n",
        "\n",
        "numerosRango()"
      ],
      "metadata": {
        "id": "OV6Cr4jxYIAv",
        "colab": {
          "base_uri": "https://localhost:8080/"
        },
        "outputId": "00bdf620-ad72-4f4e-e69b-1a0fb2157357"
      },
      "execution_count": 9,
      "outputs": [
        {
          "output_type": "stream",
          "name": "stdout",
          "text": [
            "Introduce el valor inicial del rango: 1\n",
            "Introduce el valor final del rango: 100\n",
            "Introduce un numero para validar o introduce 0 para salir: 10\n",
            "El numero 10 esta dentro del rango.\n",
            "Introduce un numero para validar o introduce 0 para salir: 10\n",
            "El numero 10 esta dentro del rango.\n",
            "Introduce un numero para validar o introduce 0 para salir: 10\n",
            "El numero 10 esta dentro del rango.\n",
            "Introduce un numero para validar o introduce 0 para salir: 10\n",
            "El numero 10 esta dentro del rango.\n",
            "Introduce un numero para validar o introduce 0 para salir: 10\n",
            "El numero 10 esta dentro del rango.\n",
            "Introduce un numero para validar o introduce 0 para salir: 0\n",
            "El numero 0 esta fuera del rango.\n",
            "Saliendo...\n",
            "La cantidad de numeros fue: 5\n",
            "El promedio de los numeros es: 10.00\n"
          ]
        }
      ]
    },
    {
      "cell_type": "markdown",
      "source": [
        "4.- función que reciba como parámetro los valores para el área de un triángulo y retorne su resultado"
      ],
      "metadata": {
        "id": "WcAxDY8XEM-e"
      }
    },
    {
      "cell_type": "code",
      "source": [
        "def areaTriangulo(b,h):\n",
        "    a = (b * h)/2\n",
        "    return a\n",
        "\n",
        "\n",
        "base = int(input(\"Introduce la sabe del triangulo: \"))\n",
        "altura = int(input(\"Introduce la altura del triangulo: \"))\n",
        "area = areaTriangulo(base,altura)\n",
        "print(f\"El area del triangulo es: {area}\")"
      ],
      "metadata": {
        "colab": {
          "base_uri": "https://localhost:8080/"
        },
        "id": "LK4ZjjwcWErp",
        "outputId": "2cdeacae-4564-433f-96f4-5bc5205c6b3a"
      },
      "execution_count": null,
      "outputs": [
        {
          "output_type": "stream",
          "name": "stdout",
          "text": [
            "Introduce la sabe del triangulo: 10\n",
            "Introduce la altura del triangulo: 5\n",
            "El area del triangulo es: 25.0\n"
          ]
        }
      ]
    },
    {
      "cell_type": "markdown",
      "source": [
        "5.- función que sirva para validar un número dentro de un rango dado."
      ],
      "metadata": {
        "id": "yCk5yTw5ENHF"
      }
    },
    {
      "cell_type": "code",
      "source": [
        "def validar(vi,vf):\n",
        "    num = 1\n",
        "    while num != 0:\n",
        "        num = int(input(\"Introduce un numero para validar o introduce 0 para salir: \"))\n",
        "        if num >= vi: \n",
        "            if num <= vf:\n",
        "                print(f\"El numero {num} esta dentro del rango.\")\n",
        "            else:\n",
        "                print(f\"El numero {num} esta fuera del rango.\")\n",
        "        else:\n",
        "            print(f\"El numero {num} esta fuera del rango.\")\n",
        "\n",
        "    print(\"Saliendo...\")\n",
        "\n",
        "\n",
        "print(\"Rango.\")\n",
        "vi = int(input(\"Introduce el valor inicial del rango: \"))\n",
        "vf = int(input(\"Introduce el valor final del rango: \"))\n",
        "\n",
        "validar(vi,vf)"
      ],
      "metadata": {
        "id": "HDBR2WsLV2US",
        "colab": {
          "base_uri": "https://localhost:8080/"
        },
        "outputId": "f6375c59-cf53-4b7e-dc9d-4076a2c72d7d"
      },
      "execution_count": 8,
      "outputs": [
        {
          "output_type": "stream",
          "name": "stdout",
          "text": [
            "Rango.\n",
            "Introduce el valor inicial del rango: 1\n",
            "Introduce el valor final del rango: 100\n",
            "Introduce un numero para validar o introduce 0 para salir: 10\n",
            "El numero 10 esta dentro del rango.\n",
            "Introduce un numero para validar o introduce 0 para salir: 10\n",
            "El numero 10 esta dentro del rango.\n",
            "Introduce un numero para validar o introduce 0 para salir: 10\n",
            "El numero 10 esta dentro del rango.\n",
            "Introduce un numero para validar o introduce 0 para salir: 0\n",
            "El numero 0 esta fuera del rango.\n",
            "Saliendo...\n"
          ]
        }
      ]
    }
  ]
}