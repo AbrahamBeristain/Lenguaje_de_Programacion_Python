{
  "nbformat": 4,
  "nbformat_minor": 0,
  "metadata": {
    "colab": {
      "provenance": [],
      "authorship_tag": "ABX9TyNmPKlcYpWxBis5LA+6lx09",
      "include_colab_link": true
    },
    "kernelspec": {
      "name": "python3",
      "display_name": "Python 3"
    },
    "language_info": {
      "name": "python"
    }
  },
  "cells": [
    {
      "cell_type": "markdown",
      "metadata": {
        "id": "view-in-github",
        "colab_type": "text"
      },
      "source": [
        "<a href=\"https://colab.research.google.com/github/AbrahamBeristain/Lenguaje_de_Programacion_Python/blob/main/Actividad10_LPP_JABN.ipynb\" target=\"_parent\"><img src=\"https://colab.research.google.com/assets/colab-badge.svg\" alt=\"Open In Colab\"/></a>"
      ]
    },
    {
      "cell_type": "markdown",
      "source": [
        "Lenguaje de Programación en Python\n",
        "\n",
        "**ACTIVIDAD 10**"
      ],
      "metadata": {
        "id": "ma5YXQbqEUzj"
      }
    },
    {
      "cell_type": "code",
      "execution_count": 2,
      "metadata": {
        "id": "gnlYn9emEOYf"
      },
      "outputs": [],
      "source": [
        "#!pip install kora -q\n",
        "#!pip install pyyaml\n",
        "from IPython.display import clear_output\n",
        "import random\n",
        "import json\n",
        "import yaml\n",
        "import pandas as pd"
      ]
    },
    {
      "cell_type": "code",
      "source": [
        "def vali_Num(msge, ri=0, rf=1001):\n",
        "    entrar = True \n",
        "    while entrar:\n",
        "        try:\n",
        "            num = int(input(f\"{msge} \"))\n",
        "            entrar = False\n",
        "        except:\n",
        "            print(\"Introduce solo numeros enteros.\")\n",
        "            entrar = True \n",
        "            continue\n",
        "        \n",
        "        if num<ri or num>rf:\n",
        "            print(\"Numero fuera del rango.\")\n",
        "            entrar = True\n",
        "    \n",
        "    return num"
      ],
      "metadata": {
        "id": "fBpX503D6HWA"
      },
      "execution_count": 3,
      "outputs": []
    },
    {
      "cell_type": "code",
      "source": [
        "def agregar_aut(lista_dic):\n",
        "    clear_output()\n",
        "    registro = [\"ID\",\"Nombre\",\"Ap.Paterno\",\"Ap.Materno\",\"Puesto\",\"Sexo\"]\n",
        "    nombre_h=[\"Marcelo\",\"Isai\", \"Alexis\",\"Roberto\",\"Jose\",\"Abraham\",\"Julio\"]\n",
        "    nombre_m=[\"Samantha\",\"Nancy\",\"Maria\",\"Karla\",\"Alexa\",\"Denisse\",\"Ana\"]\n",
        "    appaterno=[\"Marquez\",\"Arredondo\",\"Perez\",\"Meraz\",\"Siqueiros\",\"Beristain\"]\n",
        "    apmaterno=[\"Ontiveros\",\"Urbalejo\",\"Quintero\",\"Chavez\",\"Navarro\"]\n",
        "    puesto=[\"Supervisor\",\"Encargad@\",\"Conserje\",\"Gerente\",\"Guardia\",\"Empleado Gral\",\"Jefe\"]\n",
        "    sexo=[\"H\",\"M\"]\n",
        "    while True: \n",
        "        lista_datos=[]\n",
        "        repetido = False\n",
        "        while repetido == False:\n",
        "            clear_output()\n",
        "            id = random.randint(300000,400000)\n",
        "            repetido = verificar_id(lista_dic,id)\n",
        "        lista_datos.append(id)\n",
        "        h_o_m =random.randint(1,2)\n",
        "        if h_o_m == 1:\n",
        "            cant_nom = random.randint(1,2)\n",
        "            if cant_nom == 1:\n",
        "                lista_datos.append(random.choice(nombre_h))\n",
        "            else:\n",
        "                nombre = f\"{random.choice(nombre_h)} {random.choice(nombre_h)}\"\n",
        "                lista_datos.append(nombre)\n",
        "        else:\n",
        "            cant_nom = random.randint(1,2)\n",
        "            if cant_nom == 1:\n",
        "                lista_datos.append(random.choice(nombre_m))\n",
        "            else:\n",
        "                nombre = f\"{random.choice(nombre_m)} {random.choice(nombre_m)}\"\n",
        "                lista_datos.append(nombre)\n",
        "        lista_datos.append(random.choice(appaterno))\n",
        "        lista_datos.append(random.choice(apmaterno))\n",
        "        lista_datos.append(random.choice(puesto))\n",
        "        if h_o_m == 1:\n",
        "            lista_datos.append(sexo[0])\n",
        "        else:\n",
        "            lista_datos.append(sexo[1])\n",
        "        dic = dict(zip(registro,lista_datos))\n",
        "        lista_dic.append(dic)\n",
        "        print(\"Se agrego correctamente el registro\")\n",
        "        op = vali_Num(\"Deseas agregar otro registro?[1.-Si 2.-No]: \")\n",
        "        if op == 2:\n",
        "            break"
      ],
      "metadata": {
        "id": "cxZtUVLu5KPb"
      },
      "execution_count": 4,
      "outputs": []
    },
    {
      "cell_type": "code",
      "source": [
        "def agregar_man(lista_dic):\n",
        "    clear_output()\n",
        "    registro = [\"ID\",\"Nombre\",\"Ap.Paterno\",\"Ap.Materno\",\"Puesto\",\"Sexo\"]\n",
        "    while True:\n",
        "        repetido = False\n",
        "        lista_datos = []\n",
        "        while repetido == False:\n",
        "            id = vali_Num(\"Ingresa tu ID: \",300000,400000)\n",
        "            repetido = verificar_id(lista_dic,id)\n",
        "        lista_datos.append(id)\n",
        "        nom = input(\"Ingresa tu Nombre: \")\n",
        "        lista_datos.append(nom)\n",
        "        appat = input(\"Ingresa tu Apellido Paterno: \")\n",
        "        lista_datos.append(appat)\n",
        "        apmat = input(\"Ingresa tu Apellido Materno: \")\n",
        "        lista_datos.append(apmat)\n",
        "        puest = input(\"Ingresa el Puesto que desempeñas: \")\n",
        "        lista_datos.append(puest)\n",
        "        sex = input(\"Ingresa tu Sexo[H o M]: \")\n",
        "        lista_datos.append(sex)\n",
        "        dic = dict(zip(registro,lista_datos))\n",
        "        lista_dic.append(dic)\n",
        "        print(\"Se agrego correctamente el registro\")\n",
        "        op = vali_Num(\"Deseas agregar otro registro?[1.-Si 2.-No]: \",1,2)\n",
        "        if op == 2:\n",
        "            break"
      ],
      "metadata": {
        "id": "QzecuXhA5Muz"
      },
      "execution_count": 5,
      "outputs": []
    },
    {
      "cell_type": "code",
      "source": [
        "def imprimir(lista_dic,check_ord):\n",
        "    clear_output()\n",
        "    op = random.randint(1,3)\n",
        "    if check_ord == 1:\n",
        "        lista_ord = sorted(lista_dic, key=lambda x: x[\"ID\"])\n",
        "        if op == 1:\n",
        "            print(yaml.dump(lista_ord,sort_keys=False,default_flow_style=False))\n",
        "        elif op == 2:\n",
        "            print(json.dumps(lista_ord, sort_keys=False, indent=2))\n",
        "        elif op == 3:\n",
        "            salida=pd.DataFrame(lista_ord)\n",
        "            print(salida)\n",
        "    else:\n",
        "        if op == 1:\n",
        "            print(yaml.dump(lista_dic,sort_keys=False,default_flow_style=False))\n",
        "        elif op == 2:\n",
        "            print(json.dumps(lista_dic, sort_keys=False, indent=2))\n",
        "        elif op == 3:\n",
        "            salida=pd.DataFrame(lista_dic)\n",
        "            print(salida)"
      ],
      "metadata": {
        "id": "eNROn5jJ5O5q"
      },
      "execution_count": 6,
      "outputs": []
    },
    {
      "cell_type": "code",
      "source": [
        "def buscar(lista_dic):\n",
        "    clear_output()\n",
        "    dic_encontrado = []\n",
        "    encontrado = False\n",
        "    id_busq = vali_Num(\"Ingresa el ID de la persona que buscas: \",300000,400000)\n",
        "    for diccionario in lista_dic:\n",
        "        if diccionario.get(\"ID\") == id_busq:\n",
        "            print(f\"Se encontro un registro con el ID: {id_busq}\")\n",
        "            dic_encontrado.append(diccionario)\n",
        "            salida=pd.DataFrame(dic_encontrado)\n",
        "            print(salida)\n",
        "            encontrado = True\n",
        "    if not encontrado:\n",
        "        print(f\"No se encontro ningun registro con el ID {id_busq}\")"
      ],
      "metadata": {
        "id": "Qd_QYd1e5RZG"
      },
      "execution_count": 7,
      "outputs": []
    },
    {
      "cell_type": "code",
      "source": [
        "def ordenar_dic(lista_dic,check_ord):\n",
        "    clear_output()\n",
        "    if check_ord == 1:\n",
        "        print(\"La lista ya se encuentra ordenada\")\n",
        "    else:\n",
        "        print(\"Se ordeno la lista\")\n",
        "        return 1"
      ],
      "metadata": {
        "id": "t7sq5TCC5T1X"
      },
      "execution_count": 8,
      "outputs": []
    },
    {
      "cell_type": "code",
      "source": [
        "def eliminar(lista_dic):\n",
        "    clear_output()\n",
        "    encontrado = False\n",
        "    id_eliminar = vali_Num(\"Ingresa el ID de la persona que deseas eliminar el registro: \")\n",
        "    for i, diccionario in enumerate(lista_dic):\n",
        "        if diccionario.get(\"ID\") == id_eliminar:\n",
        "            print(f\"Se elimino a la persona con el ID: {id_eliminar}\")\n",
        "            del lista_dic[i]\n",
        "            encontrado = True\n",
        "    if not encontrado:\n",
        "        print(f\"No se encontro ningun registro con el ID {id_eliminar}\")"
      ],
      "metadata": {
        "id": "r5KskV1T5VyA"
      },
      "execution_count": 9,
      "outputs": []
    },
    {
      "cell_type": "code",
      "source": [
        "def verificar_id(lista_dic,id):\n",
        "    for diccionario in lista_dic:\n",
        "        if diccionario.get(\"ID\") == id:\n",
        "            print(\"Ya existe un registro con ese ID, prueba otro\")\n",
        "            return False\n",
        "    return True"
      ],
      "metadata": {
        "id": "ozfaypy45X1I"
      },
      "execution_count": 10,
      "outputs": []
    },
    {
      "cell_type": "code",
      "source": [
        "def menu():\n",
        "    print(\"MENU:\")\n",
        "    print(\"1.-AGREGAR AUTOMATICO\")\n",
        "    print(\"2.-AGREGAR MANUAL\")\n",
        "    print(\"3.-IMPRIMIR LISTA\")\n",
        "    print(\"4.-BUSCAR\")\n",
        "    print(\"5.-ORDENAR\")\n",
        "    print(\"6.-ELIMINAR\")\n",
        "    print(\"7.-BORRAR TODA LA LISTA\")\n",
        "    print(\"0.-SALIR\")"
      ],
      "metadata": {
        "id": "dswHgiLo5aJ2"
      },
      "execution_count": 11,
      "outputs": []
    },
    {
      "cell_type": "code",
      "source": [
        "#EJECUCION DE TODAS LAS FUNCIONES\n",
        "lista_dic =[]\n",
        "check_ord = 0\n",
        "while True:\n",
        "    menu()\n",
        "    op = vali_Num(\"Ingresa la funcion que deseas utilizar: \")\n",
        "    if op == 1:\n",
        "        agregar_aut(lista_dic)\n",
        "        check_ord = 0\n",
        "        input(\"Presiona ENTER para borrar la pantalla\")\n",
        "        clear_output()\n",
        "        continue\n",
        "    elif op == 2:\n",
        "        agregar_man(lista_dic)\n",
        "        check_ord = 0\n",
        "        input(\"Presiona ENTER para borrar la pantalla\")\n",
        "        clear_output()\n",
        "        continue\n",
        "    elif op == 3:\n",
        "        imprimir(lista_dic,check_ord)\n",
        "        input(\"Presiona ENTER para borrar la pantalla\")\n",
        "        clear_output()\n",
        "        continue\n",
        "    elif op == 4:\n",
        "        buscar(lista_dic)\n",
        "        input(\"Presiona ENTER para borrar la pantalla\")\n",
        "        clear_output()\n",
        "        continue\n",
        "    elif op == 5:\n",
        "        check_ord = ordenar_dic(lista_dic,check_ord)\n",
        "        input(\"Presiona ENTER para borrar la pantalla\")\n",
        "        clear_output()\n",
        "        continue\n",
        "    elif op == 6:\n",
        "        eliminar(lista_dic)\n",
        "        input(\"Presiona ENTER para borrar la pantalla\")\n",
        "        clear_output()\n",
        "        continue\n",
        "    elif op == 7:\n",
        "        lista_dic = []\n",
        "    elif op == 0:\n",
        "        break"
      ],
      "metadata": {
        "colab": {
          "base_uri": "https://localhost:8080/"
        },
        "id": "wAiVpzs15ccn",
        "outputId": "39bbd283-c645-4860-ede8-81c7787a10d6"
      },
      "execution_count": null,
      "outputs": [
        {
          "output_type": "stream",
          "name": "stdout",
          "text": [
            "       ID          Nombre Ap.Paterno Ap.Materno      Puesto Sexo\n",
            "0  355802           Alexa  Arredondo  Ontiveros  Supervisor    M\n",
            "1  312816         Marcelo      Perez   Quintero    Conserje    H\n",
            "2  344555            Isai      Meraz   Urbalejo     Guardia    H\n",
            "3  336169  Karla Samantha      Perez    Navarro     Gerente    M\n",
            "4  350944           Maria      Perez  Ontiveros     Guardia    M\n"
          ]
        }
      ]
    }
  ]
}