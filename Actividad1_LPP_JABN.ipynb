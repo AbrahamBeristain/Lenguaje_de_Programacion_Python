{
  "nbformat": 4,
  "nbformat_minor": 0,
  "metadata": {
    "colab": {
      "provenance": [],
      "authorship_tag": "ABX9TyO2HmZwtL+g9W2BQWvDSzqe",
      "include_colab_link": true
    },
    "kernelspec": {
      "name": "python3",
      "display_name": "Python 3"
    },
    "language_info": {
      "name": "python"
    }
  },
  "cells": [
    {
      "cell_type": "markdown",
      "metadata": {
        "id": "view-in-github",
        "colab_type": "text"
      },
      "source": [
        "<a href=\"https://colab.research.google.com/github/AbrahamBeristain/Lenguaje_de_Programacion_Python/blob/main/Actividad1_LPP_JABN.ipynb\" target=\"_parent\"><img src=\"https://colab.research.google.com/assets/colab-badge.svg\" alt=\"Open In Colab\"/></a>"
      ]
    },
    {
      "cell_type": "markdown",
      "source": [
        "**ACTIVIDAD 1**\n",
        "\n",
        "*Lenguaje de Programacion Python.*"
      ],
      "metadata": {
        "id": "IFiKE3exbSGO"
      }
    },
    {
      "cell_type": "markdown",
      "source": [
        "**1.- Programa en Python Mostrar un mensaje que diga “HOLA MUNDO” en un solo renglón usando 2 print.**"
      ],
      "metadata": {
        "id": "w95AA-hqbvTl"
      }
    },
    {
      "cell_type": "code",
      "source": [
        "print(\"HOLA\", end=\" \")\n",
        "print(\"MUNDO\")"
      ],
      "metadata": {
        "colab": {
          "base_uri": "https://localhost:8080/"
        },
        "id": "Is4tls-Zb8l-",
        "outputId": "661356b3-0dfa-4410-8bc5-0e7367ebf73d"
      },
      "execution_count": null,
      "outputs": [
        {
          "output_type": "stream",
          "name": "stdout",
          "text": [
            "HOLA MUNDO\n"
          ]
        }
      ]
    },
    {
      "cell_type": "markdown",
      "source": [
        "**2.- Programa en Python que lea 2 números, realizar la suma y desplegar la suma de los 2 números.**"
      ],
      "metadata": {
        "id": "FKmznHimcNua"
      }
    },
    {
      "cell_type": "code",
      "source": [
        "print(\"Suma de 2 numeros.\")\n",
        "num1=float(input(\"Introduce el primer numero: \"))\n",
        "num2=float(input(\"Introduce el segundo numero: \"))\n",
        "suma=num1+num2\n",
        "print(f\"La suma es= {suma}\")"
      ],
      "metadata": {
        "colab": {
          "base_uri": "https://localhost:8080/"
        },
        "id": "FSDrbWqIcvqt",
        "outputId": "6eb7f1b4-553a-49f1-b7ed-ca218b6726c7"
      },
      "execution_count": null,
      "outputs": [
        {
          "output_type": "stream",
          "name": "stdout",
          "text": [
            "Suma de 2 numeros.\n",
            "Introduce el primer numero: 10\n",
            "Introduce el segundo numero: 10\n",
            "La suma es= 20.0\n"
          ]
        }
      ]
    },
    {
      "cell_type": "markdown",
      "source": [
        "**3.- Programa en Python que lea 2 números y realice las 4\n",
        "operaciones básicas.**"
      ],
      "metadata": {
        "id": "dqFm_g2eeFk0"
      }
    },
    {
      "cell_type": "code",
      "source": [
        "print(\"Operaciones basicas.\")\n",
        "num1=float(input(\"Introduce el primer numero: \"))\n",
        "num2=float(input(\"Introduce el segundo numero: \"))\n",
        "suma=num1+num2\n",
        "resta=num1-num2\n",
        "mult=num1*num2\n",
        "div=num1/num2\n",
        "print(f\"La suma es= {suma}\")\n",
        "print(f\"La resta es= {resta}\")\n",
        "print(f\"La multiplicacion es= {mult}\")\n",
        "print(f\"La division es= {div:.2f}\")"
      ],
      "metadata": {
        "colab": {
          "base_uri": "https://localhost:8080/"
        },
        "id": "8E3RstLyefS0",
        "outputId": "32a6be70-a4b1-4c50-ef7d-70c45b72f3b7"
      },
      "execution_count": null,
      "outputs": [
        {
          "output_type": "stream",
          "name": "stdout",
          "text": [
            "Operaciones basicas.\n",
            "Introduce el primer numero: 10\n",
            "Introduce el segundo numero: 10\n",
            "La suma es= 20.0\n",
            "La resta es= 0.0\n",
            "La multiplicacion es= 100.0\n",
            "La division es= 1.0\n"
          ]
        }
      ]
    },
    {
      "cell_type": "markdown",
      "source": [
        "**4.- Programa en Python Que sirva para calcular el área de un triángulo.**"
      ],
      "metadata": {
        "id": "kU_QDKmJfWTC"
      }
    },
    {
      "cell_type": "code",
      "source": [
        "print(\"Area de un triangulo.\")\n",
        "base=float(input(\"Introduce la base: \"))\n",
        "altura=float(input(\"Introduce la altura: \"))\n",
        "area=(base*altura)/2\n",
        "print(f\"El area del triangulo es= {area:.2f}\")"
      ],
      "metadata": {
        "colab": {
          "base_uri": "https://localhost:8080/"
        },
        "id": "UHL1Qdmhfdlc",
        "outputId": "1fe84f0d-0ae3-494d-92e4-086795962f5b"
      },
      "execution_count": null,
      "outputs": [
        {
          "output_type": "stream",
          "name": "stdout",
          "text": [
            "Area de un triangulo.\n",
            "Introduce la base: 9\n",
            "Introduce la altura: 6\n",
            "El area del triangulo es= 27.0\n"
          ]
        }
      ]
    },
    {
      "cell_type": "markdown",
      "source": [
        "**5.- Programa en Python que lea una medida en centímetros y desplegar la misma medida pero convertida en pies y pulgadas.**"
      ],
      "metadata": {
        "id": "ymMBhpJ4gphr"
      }
    },
    {
      "cell_type": "code",
      "source": [
        "print(\"Conversion de centimetros a pies y pulgadas.\")\n",
        "cm=float(input(\"Introduce la cantidad de centimetros: \"))\n",
        "pulg= cm/2.54\n",
        "pies= cm/30.48\n",
        "print(f\"{cm} cm es igual a {pies:.2f} pies.\")\n",
        "print(f\"{cm} cm es igual a {pulg:.2f} pulgadas.\")"
      ],
      "metadata": {
        "colab": {
          "base_uri": "https://localhost:8080/"
        },
        "id": "hTtUSPZ4gvwt",
        "outputId": "5645e39f-fc3b-4a40-cd58-216845783b2c"
      },
      "execution_count": null,
      "outputs": [
        {
          "output_type": "stream",
          "name": "stdout",
          "text": [
            "Conversion de centimetros a pies y pulgadas.\n",
            "Introduce la cantidad de centimetros: 350\n",
            "350.0 cm es igual a 11.48 pies.\n",
            "350.0 cm es igual a 137.80 pulgadas.\n"
          ]
        }
      ]
    },
    {
      "cell_type": "markdown",
      "source": [
        "**6.- Programa en Python que lea una temperatura en\n",
        "grados centígrados y desplegarla en Grados Fahrenheit y grados\n",
        "kelvin.**"
      ],
      "metadata": {
        "id": "BxU7ox2YkGkp"
      }
    },
    {
      "cell_type": "code",
      "source": [
        "print(\"Conversion de grados centigrados a Fahrenheit y Kelvin.\")\n",
        "c=float(input(\"Introduce la cantidad de grados centigrados: \"))\n",
        "f= (1.8*c)+32\n",
        "k= c+273.15\n",
        "print(f\"{c} °C es igual a {f:.2f} °F.\")\n",
        "print(f\"{c} °C es igual a {k:.2f} °K.\")"
      ],
      "metadata": {
        "colab": {
          "base_uri": "https://localhost:8080/"
        },
        "id": "IyPQq-3skJg3",
        "outputId": "92cdb771-e43f-410f-c189-cb2fc1b5f095"
      },
      "execution_count": null,
      "outputs": [
        {
          "output_type": "stream",
          "name": "stdout",
          "text": [
            "Conversion de grados centigrados a Fahrenheit y Kelvin.\n",
            "Introduce la cantidad de grados centigrados: 40\n",
            "40.0 °C es igual a 104.00 °F.\n",
            "40.0 °C es igual a 313.15 °K.\n"
          ]
        }
      ]
    },
    {
      "cell_type": "markdown",
      "source": [
        "**7.- Programa en Python que lea 4 calificaciones de un alumno,\n",
        "desplegar el promedio del alumno.**"
      ],
      "metadata": {
        "id": "471cTmw8l2zF"
      }
    },
    {
      "cell_type": "code",
      "source": [
        "print(\"Promedio de 4 calificaciones.\")\n",
        "sumaCal=0\n",
        "for i in range(0,4,1):\n",
        "    cal=float(input(\"Introduce la calificacion: \"))\n",
        "    sumaCal=sumaCal+cal\n",
        "\n",
        "prom=sumaCal/4\n",
        "print(f\"El promedio es= {prom:.2f}\")\n"
      ],
      "metadata": {
        "colab": {
          "base_uri": "https://localhost:8080/"
        },
        "id": "KCwNwQJMl_49",
        "outputId": "eb35e259-af4d-4790-a018-d5294c77b750"
      },
      "execution_count": null,
      "outputs": [
        {
          "output_type": "stream",
          "name": "stdout",
          "text": [
            "Promedio de 4 calificaciones.\n",
            "Introduce la calificacion: 70\n",
            "Introduce la calificacion: 70\n",
            "Introduce la calificacion: 70\n",
            "Introduce la calificacion: 70\n",
            "El promedio es= 70.00\n"
          ]
        }
      ]
    }
  ]
}