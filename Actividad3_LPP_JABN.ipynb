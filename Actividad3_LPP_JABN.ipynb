{
  "nbformat": 4,
  "nbformat_minor": 0,
  "metadata": {
    "colab": {
      "provenance": [],
      "authorship_tag": "ABX9TyOfiy7jEyoIsWCC3ak9njSI",
      "include_colab_link": true
    },
    "kernelspec": {
      "name": "python3",
      "display_name": "Python 3"
    },
    "language_info": {
      "name": "python"
    }
  },
  "cells": [
    {
      "cell_type": "markdown",
      "metadata": {
        "id": "view-in-github",
        "colab_type": "text"
      },
      "source": [
        "<a href=\"https://colab.research.google.com/github/AbrahamBeristain/Lenguaje_de_Programacion_Python/blob/main/Actividad3_LPP_JABN.ipynb\" target=\"_parent\"><img src=\"https://colab.research.google.com/assets/colab-badge.svg\" alt=\"Open In Colab\"/></a>"
      ]
    },
    {
      "cell_type": "markdown",
      "source": [
        "**ACTIVIDAD 3**"
      ],
      "metadata": {
        "id": "SFw-vaMi-Jvu"
      }
    },
    {
      "cell_type": "markdown",
      "source": [
        "1.- Algoritmo que lea 3 calificaciones y calcule el promedio del alumno.\n"
      ],
      "metadata": {
        "id": "xHxtt0yj-ho_"
      }
    },
    {
      "cell_type": "code",
      "source": [
        "cal1 = float(input(\"Introduce la primera calificacion: \"))\n",
        "cal2 = float(input(\"Introduce la segunda calificacion: \"))\n",
        "cal3 = float(input(\"Introduce la tercera calificacion: \"))\n",
        "\n",
        "prom = (cal1+cal2+cal3) / 3\n",
        "print(f\"Tu promedio es: {prom}\")\n",
        "\n",
        "if(prom >= 80):\n",
        "  if(prom >= 90):\n",
        "    if(prom >= 98):\n",
        "      if(prom > 100):\n",
        "        print(\"Eror en el promedio.\")\n",
        "      else:\n",
        "        print(\"Excelente.\")\n",
        "    else:\n",
        "      print(\"Muy Bien.\") \n",
        "  else:\n",
        "    print(\"Bien.\") \n",
        "else:\n",
        "  if(prom >= 70):\n",
        "    print(\"Regular.\")\n",
        "  else:\n",
        "    if(prom >= 60):\n",
        "      print(\"Suficiente.\")\n",
        "    else:\n",
        "      if(prom >= 30):\n",
        "        print(\"Extraordinario.\")\n",
        "      else:\n",
        "        print(\"Repetir.\")"
      ],
      "metadata": {
        "colab": {
          "base_uri": "https://localhost:8080/"
        },
        "id": "k30xvwn54kqh",
        "outputId": "72587ceb-8598-4616-966d-c0ce1b4cfb20"
      },
      "execution_count": null,
      "outputs": [
        {
          "output_type": "stream",
          "name": "stdout",
          "text": [
            "Introduce la primera calificacion: 100\n",
            "Introduce la segunda calificacion: 100\n",
            "Introduce la tercera calificacion: 100\n",
            "Tu promedio es= 100.0\n",
            "Excelente.\n"
          ]
        }
      ]
    },
    {
      "cell_type": "markdown",
      "source": [
        "2.- Algoritmo que sirva para calcular el salario semanal de un trabajador donde se obtiene como dato de entrada las horas semanales trabajadas, el salario por hora. \n",
        "\n",
        "El programa deberá calcular el salario normal, salario extra y salario total"
      ],
      "metadata": {
        "id": "eJIdrJc_-jqX"
      }
    },
    {
      "cell_type": "code",
      "source": [
        "horas = int(input(\"Introduce la cantidades de horas trabjadas a la semana: \"))\n",
        "salario_H = float(input(\"Introduce tu salario por hora: \"))\n",
        "\n",
        "print(\"Jornada Laboral.\")\n",
        "\n",
        "if(horas > 40):\n",
        "  print(\"Horas normales: 40\")\n",
        "\n",
        "  if(horas >= 50):\n",
        "    salario_E = ((horas-49) * (salario_H*3)) + ((salario_H*2)*9)\n",
        "    salario_T = (salario_H*40) + salario_E\n",
        "\n",
        "    print(\"Horas dobles: 9\")\n",
        "    print(\"Horas triples: \",(horas-49))\n",
        "\n",
        "  else:\n",
        "    salario_E = (horas-40) * (salario_H*2)\n",
        "    salario_T = (salario_H*40) + salario_E\n",
        "\n",
        "    print(\"Horas dobles: \",(horas-40))\n",
        "    print(\"Horas triples: 0\")\n",
        "\n",
        "else:\n",
        "  salario_T = horas * salario_H\n",
        "\n",
        "print(\"Salario normal: \",(salario_T-salario_E))\n",
        "print(f\"Salario extra: {salario_E}\")\n",
        "print(f\"Salario total: {salario_T}\")\n"
      ],
      "metadata": {
        "id": "915PndmGDrTL",
        "colab": {
          "base_uri": "https://localhost:8080/"
        },
        "outputId": "bf36640a-eb0f-4211-b1dc-7ae70d0d9632"
      },
      "execution_count": null,
      "outputs": [
        {
          "output_type": "stream",
          "name": "stdout",
          "text": [
            "Introduce la cantidades de horas trabjadas a la semana: 50\n",
            "Introduce tu salario por hora: 100\n",
            "Jornada Laboral.\n",
            "Horas normales: 40\n",
            "Horas dobles: 9\n",
            "Horas triples:  1\n",
            "Salario normal:  4000.0\n",
            "Salario extra: 2100.0\n",
            "Salario total: 6100.0\n"
          ]
        }
      ]
    },
    {
      "cell_type": "markdown",
      "source": [
        "3.- Algoritmo que sirva para desplegar el Total de una llamada telefónica donde se pide como datos de entrada los minutos y el tipo de llamada."
      ],
      "metadata": {
        "id": "-cUU3NDD_Wa7"
      }
    },
    {
      "cell_type": "code",
      "source": [
        "print(\"1.- Llamada local $3.00 sin límite de tiempo.\")\n",
        "print(\"2.- Llamada nacional $7.00 por los 3 primeros minutos y $2.00 minuto adicional.\")\n",
        "print(\"3.- Llamada internacional $9.00 por los 2 primeros minutos y $4.00 minuto adicional.\")\n",
        "\n",
        "tipo = int(input(\"Introduce el tipo de llamada: \"))\n",
        "min = int(input(\"Introduce la cantidad de minutos: \"))\n",
        "\n",
        "\n",
        "if(tipo == 1):\n",
        "  print(\"Llamada Local.\")\n",
        "  subtotal = min*3\n",
        "\n",
        "elif(tipo == 2):\n",
        "  print(\"Llamada Nacional.\")\n",
        "  if(min>3):\n",
        "    subtotal = 21 + ((min-3)*2)\n",
        "  else:\n",
        "    subtotal = min*7\n",
        "\n",
        "elif(tipo == 3):\n",
        "  print(\"Llamada internacional.\")\n",
        "  if(min>2):\n",
        "    subtotal = 18 + ((min-2)*4)\n",
        "  else:\n",
        "    subtotal = min*9\n",
        "\n",
        "else:\n",
        "  print(\"Opcion de llamada no valida.\")\n",
        "\n",
        "iva = subtotal*0.16\n",
        "print(f\"Subtotal: ${subtotal}\")\n",
        "print(f\"IVA: ${iva}\")\n",
        "print(f\"Total: ${subtotal+iva}\")"
      ],
      "metadata": {
        "id": "HuJnhPcoArD3"
      },
      "execution_count": null,
      "outputs": []
    },
    {
      "cell_type": "markdown",
      "source": [
        "4.- Algoritmo que sirva para calcular el Total a pagar por consumo de agua, donde el dato de entrada son los M3 de agua consumidos, Tomar en cuenta que se cobra escalonada."
      ],
      "metadata": {
        "id": "KRBTMW6L_gHX"
      }
    },
    {
      "cell_type": "code",
      "source": [
        "\n",
        "m3 = int(input(\"Introduce los metros cubicos de agua consumida: \"))\n",
        "\n",
        "if(m3 > 15):\n",
        "  if(m3 > 50):\n",
        "    print(\"Rango 4.\")\n",
        "    subtotal = (50+88+350) + ((m3-50)*11)\n",
        "  else:\n",
        "    print(\"Rango 3.\")\n",
        "    subtotal = (50+88) + ((m3-15)*10)\n",
        "else:\n",
        "  if(m3 >= 5):\n",
        "    print(\"Rango 2.\")\n",
        "    subtotal = 50 + ((m3-4)*8)\n",
        "  else:\n",
        "    print(\"Rango 1\")\n",
        "    subtotal = m3*50\n",
        "\n",
        "iva = subtotal * 0.16\n",
        "print(f\"Subtotal: ${subtotal}\")\n",
        "print(f\"IVA: ${iva}\")\n",
        "print(f\"Total: ${subtotal+iva}\")"
      ],
      "metadata": {
        "id": "IJB9EltLdp1i",
        "colab": {
          "base_uri": "https://localhost:8080/"
        },
        "outputId": "cbb67a52-1b9c-4c14-e87d-12dbeb0695dd"
      },
      "execution_count": null,
      "outputs": [
        {
          "output_type": "stream",
          "name": "stdout",
          "text": [
            "Introduce los metros cubicos de agua consumida: 50\n",
            "Rango 3.\n",
            "Subtotal: $488\n",
            "IVA: $78.08\n",
            "Total: $566.08\n"
          ]
        }
      ]
    },
    {
      "cell_type": "markdown",
      "source": [
        "5- En la materia de Metodología de la programación se aplican 5 exámenes, calcular el promedio final de la materia donde la calificación menor de los exámenes se anula y el promedio se calcula en base a 4 exámenes.\n",
        "\n",
        "Desplegar el promedio final. "
      ],
      "metadata": {
        "id": "1Tc6wBE3_nCb"
      }
    },
    {
      "cell_type": "code",
      "source": [
        "calf1 = float(input(\"Introduce la primera calificacion: \"))\n",
        "calf2 = float(input(\"Introduce la segunda calificacion: \"))\n",
        "calf3 = float(input(\"Introduce la tercera calificacion: \"))\n",
        "calf4 = float(input(\"Introduce la cuarta calificacion: \"))\n",
        "calf5 = float(input(\"Introduce la quinta calificacion: \"))\n",
        "\n",
        "calf_Menor = calf1\n",
        "prom = (calf2 + calf3 + calf4 + calf5) /4\n",
        "\n",
        "if(calf2 < calf_Menor):\n",
        "  print(f\"Segunda calificacion elimindada.\")\n",
        "  calf_Menor = calf2\n",
        "  prom = (calf1 + calf3 + calf4 + calf5) /4\n",
        "\n",
        "  if(calf3 < calf_Menor):\n",
        "    print(f\"Tercera calificacion elimindada.\")\n",
        "    calf_Menor = calf3\n",
        "    prom = (calf1 + calf2 + calf4 + calf5) /4\n",
        "\n",
        "    if(calf4 < calf_Menor):\n",
        "      print(f\"Cuarta calificacion elimindada.\")\n",
        "      calf_Menor = calf4\n",
        "      prom = (calf1 + calf2 + calf3 + calf5) /4\n",
        "\n",
        "      if(calf5 < calf_Menor):\n",
        "        print(f\"Quinta calificacion elimindada.\")\n",
        "        calf_Menor = calf5\n",
        "        prom = (calf1 + calf2 + calf3 + calf4) /4\n",
        "else:\n",
        "  print(\"Primera calificacion eliminada\")\n",
        "\n",
        "print(f\"El promedio final es: {prom}\")\n"
      ],
      "metadata": {
        "colab": {
          "base_uri": "https://localhost:8080/"
        },
        "id": "_4M00Uij0aQJ",
        "outputId": "5fbbb5ac-a2d0-4174-ecff-537ee9de7224"
      },
      "execution_count": null,
      "outputs": [
        {
          "output_type": "stream",
          "name": "stdout",
          "text": [
            "Introduce la primera calificacion: 50\n",
            "Introduce la segunda calificacion: 100\n",
            "Introduce la tercera calificacion: 100\n",
            "Introduce la cuarta calificacion: 100\n",
            "Introduce la quinta calificacion: 100\n",
            "Primera calificacion eliminada\n",
            "El promedio final es: 100.0\n"
          ]
        }
      ]
    },
    {
      "cell_type": "markdown",
      "source": [
        "6.- Algoritmo que sirva para el juego del CHINCHAMPU (Piedra, Papel, Tijera) para 1 jugador y la computadora, (usar condición anidada) "
      ],
      "metadata": {
        "id": "kBQY9Ts9_uI1"
      }
    },
    {
      "cell_type": "code",
      "source": [],
      "metadata": {
        "id": "tFzXlluC73-x"
      },
      "execution_count": null,
      "outputs": []
    },
    {
      "cell_type": "markdown",
      "source": [
        "7.- Algoritmo que sirva para el juego del CHINCHAMPU (Piedra, Papel, Tijera) para 1 jugador y la computadora, (usar selección múltiple) "
      ],
      "metadata": {
        "id": "a_CmZNfh_ysW"
      }
    },
    {
      "cell_type": "markdown",
      "source": [
        "8.- Una tienda de electrónica ofrece descuentos a sus clientes, dependiendo del tipo de producto que compren. Si el cliente compra una computadora, tiene un descuento del 5% en el precio de la computadora y un 10% de descuento en una impresora si la compra junto con la computadora. Si el cliente compra una televisión, tiene un descuento del 7% en el precio de la televisión y un 15% de descuento en una barra de sonido si la compra junto con la televisión. Si el cliente compra una consola de videojuegos, tiene un descuento del 10% en el precio de la consola y un 20% de descuento en un juego si lo compra junto con la consola. Escribe un programa que calcule el precio a pagar por un cliente, tomando en cuenta los descuentos correspondientes."
      ],
      "metadata": {
        "id": "3JKmi00JAezS"
      }
    },
    {
      "cell_type": "markdown",
      "source": [
        "9.- En una tienda de ropa, los precios de los productos cambian dependiendo de la temporada. Durante la temporada de verano, todos los productos tienen un descuento del 20%. Durante la temporada de invierno, los productos con etiqueta roja tienen un descuento del 30% y los productos con etiqueta verde tienen un descuento del 15%. Durante la temporada de primavera y otoño, los productos con etiqueta amarilla tienen un descuento del 10%. Escribe un programa que calcule el precio a pagar por un cliente, tomando en cuenta los descuentos correspondientes."
      ],
      "metadata": {
        "id": "XI4k8nb4Agw_"
      }
    },
    {
      "cell_type": "markdown",
      "source": [
        "10.- Un restaurante ofrece descuentos a sus clientes, dependiendo del día de la semana y del tipo de menú que pidan. Los lunes, los clientes que pidan el menú del día tienen un descuento del 10%. Los martes, los clientes que pidan el menú infantil tienen un descuento del 20%. Los miércoles, los clientes que pidan el menú vegetariano tienen un descuento del 15%. Los jueves, los clientes que pidan el menú del chef tienen un descuento del 5%. Los viernes, los clientes que pidan el menú del día tienen un descuento del 5%. Los sábados y domingos no hay descuentos. Escribe un programa que calcule el precio a pagar por un cliente, tomando en cuenta los descuentos correspondientes."
      ],
      "metadata": {
        "id": "nz-AT7CvAmDk"
      }
    }
  ]
}