{
  "nbformat": 4,
  "nbformat_minor": 0,
  "metadata": {
    "colab": {
      "provenance": [],
      "authorship_tag": "ABX9TyO/CbyUbgUHBroLmWjYLG2/",
      "include_colab_link": true
    },
    "kernelspec": {
      "name": "python3",
      "display_name": "Python 3"
    },
    "language_info": {
      "name": "python"
    }
  },
  "cells": [
    {
      "cell_type": "markdown",
      "metadata": {
        "id": "view-in-github",
        "colab_type": "text"
      },
      "source": [
        "<a href=\"https://colab.research.google.com/github/AbrahamBeristain/Lenguaje_de_Programacion_Python/blob/main/Actividad4_LPP_JABN.ipynb\" target=\"_parent\"><img src=\"https://colab.research.google.com/assets/colab-badge.svg\" alt=\"Open In Colab\"/></a>"
      ]
    },
    {
      "cell_type": "markdown",
      "source": [
        "**ACTIVIDAD 4**"
      ],
      "metadata": {
        "id": "gKA8U6YRBLAG"
      }
    },
    {
      "cell_type": "markdown",
      "source": [
        "REALIZA LOS SIGUIENTES EJERCICIOS USANDO LA FORMA ADECUADA Y USANDO try Except NO DEBERA FALLAR EL PROGRAMA."
      ],
      "metadata": {
        "id": "-eT40MfEBZ3m"
      }
    },
    {
      "cell_type": "markdown",
      "source": [
        "1.- Programa en python   que lea 3 calificaciones calcule el promedio del alumno"
      ],
      "metadata": {
        "id": "ek1bvTxBBcrm"
      }
    },
    {
      "cell_type": "code",
      "source": [
        "try:  \n",
        "    calif1 = float(input(\"Primera calificacion: \"))\n",
        "    calif2 = float(input(\"Segunda calificacion: \"))\n",
        "    calif3 = float(input(\"Tercera calificacion: \"))\n",
        "    prom = sum(calif1, calif2, calif3) / 3\n",
        "\n",
        "\n",
        "    if prom >= 80:\n",
        "      if prom >= 98:\n",
        "          if prom > 100:\n",
        "            print(\"Error\")\n",
        "          else:\n",
        "              print(\"Excelente\")   \n",
        "      else:\n",
        "          if prom >= 90:\n",
        "              print(\"Muy bien\")\n",
        "          else:\n",
        "              print(\"Bien\")\n",
        "    else:\n",
        "        if prom >= 60:\n",
        "          if prom >= 70:\n",
        "              print(\"Regular\")\n",
        "          else:\n",
        "              print(\"Suficiente\")\n",
        "        else:\n",
        "            if prom >= 30:\n",
        "              print(\"Extraordinario\")\n",
        "            else:\n",
        "              print(\"Repetir\") \n",
        "except ValueError:\n",
        "    print(\"Se te pidió un numero\")"
      ],
      "metadata": {
        "colab": {
          "base_uri": "https://localhost:8080/"
        },
        "id": "QGFieiaVCr5O",
        "outputId": "e0658793-0108-45c0-ea89-7efcb5e56a18"
      },
      "execution_count": null,
      "outputs": [
        {
          "output_type": "stream",
          "name": "stdout",
          "text": [
            "Primera calificacion: 100\n",
            "Segunda calificacion: e\n",
            "Se te pidió un numero\n"
          ]
        }
      ]
    },
    {
      "cell_type": "markdown",
      "source": [
        "2.- Programa en Python que sirva para calcular el salario semanal de un trabajador donde se obtiene como dato de entrada las horas semanales trabajadas, el salario por hora. "
      ],
      "metadata": {
        "id": "qiy4pxjLBgFv"
      }
    },
    {
      "cell_type": "code",
      "source": [
        "try:\n",
        "    horas = int(input(\"Introduce la cantidades de horas trabjadas a la semana: \"))\n",
        "    salario_H = float(input(\"Introduce tu salario por hora: \"))\n",
        "\n",
        "    print(\"Jornada Laboral.\")\n",
        "\n",
        "    if(horas > 40):\n",
        "        print(\"Horas normales: 40\")\n",
        "\n",
        "        if(horas >= 50):\n",
        "            salario_E = ((horas-49) * (salario_H*3)) + ((salario_H*2)*9)\n",
        "            salario_T = (salario_H*40) + salario_E\n",
        "\n",
        "            print(\"Horas dobles: 9\")\n",
        "            print(\"Horas triples: \",(horas-49))\n",
        "\n",
        "        else:\n",
        "            salario_E = (horas-40) * (salario_H*2)\n",
        "            salario_T = (salario_H*40) + salario_E\n",
        "\n",
        "            print(\"Horas dobles: \",(horas-40))\n",
        "            print(\"Horas triples: 0\")\n",
        "\n",
        "    else:\n",
        "        salario_T = horas * salario_H\n",
        "\n",
        "    print(\"Salario normal: \",(salario_T-salario_E))\n",
        "    print(f\"Salario extra: {salario_E}\")\n",
        "    print(f\"Salario total: {salario_T}\")\n",
        "\n",
        "except:\n",
        "    print(\"Intoduce solo numeros.\")"
      ],
      "metadata": {
        "colab": {
          "base_uri": "https://localhost:8080/"
        },
        "id": "KCShSsFxAXjR",
        "outputId": "e3690172-794a-41aa-ceac-402a9cc18381"
      },
      "execution_count": 21,
      "outputs": [
        {
          "output_type": "stream",
          "name": "stdout",
          "text": [
            "Introduce la cantidades de horas trabjadas a la semana: 50\n",
            "Introduce tu salario por hora: 100\n",
            "Jornada Laboral.\n",
            "Horas normales: 40\n",
            "Horas dobles: 9\n",
            "Horas triples:  1\n",
            "Salario normal:  4000.0\n",
            "Salario extra: 2100.0\n",
            "Salario total: 6100.0\n"
          ]
        }
      ]
    },
    {
      "cell_type": "markdown",
      "source": [
        "3.- Programa en Python que sirva para calcular el Total a pagar por consumo de agua, donde el dato de entrada son los M3 de agua consumidos."
      ],
      "metadata": {
        "id": "aIVpF2kLBjNe"
      }
    },
    {
      "cell_type": "code",
      "source": [
        "try:\n",
        "    m3 = int(input(\"Introduce los metros cubicos de agua consumida: \"))\n",
        "\n",
        "    if(m3 > 15):\n",
        "        if(m3 > 50):\n",
        "            print(\"Rango 4.\")\n",
        "            subtotal = (50+88+350) + ((m3-50)*11)\n",
        "        else:\n",
        "            print(\"Rango 3.\")\n",
        "            subtotal = (50+88) + ((m3-15)*10)\n",
        "    else:\n",
        "        if(m3 >= 5):\n",
        "            print(\"Rango 2.\")\n",
        "            subtotal = 50 + ((m3-4)*8)\n",
        "        else:\n",
        "            print(\"Rango 1\")\n",
        "            subtotal = m3*50\n",
        "\n",
        "    iva = subtotal * 0.16\n",
        "    print(f\"Subtotal: ${subtotal}\")\n",
        "    print(f\"IVA: ${iva}\")\n",
        "    print(f\"Total: ${subtotal+iva}\")\n",
        "\n",
        "except:\n",
        "    print(\"Introduce solo numeros.\")"
      ],
      "metadata": {
        "colab": {
          "base_uri": "https://localhost:8080/"
        },
        "id": "OTAE-j-qBHE9",
        "outputId": "fc055e2e-f7f0-421d-819f-a5ee4edcec46"
      },
      "execution_count": 22,
      "outputs": [
        {
          "output_type": "stream",
          "name": "stdout",
          "text": [
            "Introduce los metros cubicos de agua consumida: 50\n",
            "Rango 3.\n",
            "Subtotal: $488\n",
            "IVA: $78.08\n",
            "Total: $566.08\n"
          ]
        }
      ]
    },
    {
      "cell_type": "markdown",
      "source": [
        "4- En la materia de Metodología de la programación se aplican 5 exámenes, calcular el promedio final de la materia donde la calificación menor de los exámenes se anula y el promedio se calcula en base a 4 exámenes."
      ],
      "metadata": {
        "id": "ZbZH_lHLBm8-"
      }
    },
    {
      "cell_type": "code",
      "source": [
        "try:\n",
        "    calif1 = float(input(\"Primera calificacion: \"))\n",
        "    calif2 = float(input(\"Segunda calificacion: \"))\n",
        "    calif3 = float(input(\"Tercera calificacion: \"))\n",
        "    calif4 = float(input(\"Cuarta calificacion: \"))\n",
        "    calif5 = float(input(\"Quinta calificacion: \"))\n",
        "\n",
        "    calif_Men = min(calif1, calif2, calif3, calif4, calif5) \n",
        "    prom = ((calif1+calif2+calif3+calif4)-calif_Men) /4\n",
        "    \n",
        "    print(f\"La calificacion mas baja fue: {calif_Men}\")\n",
        "    print(f\"El promedio final es: {prom}\")\n",
        "\n",
        "except:\n",
        "    print(\"Cualquier cosa.\")"
      ],
      "metadata": {
        "id": "A5ytDyDEJ4fy",
        "colab": {
          "base_uri": "https://localhost:8080/"
        },
        "outputId": "34bb120d-1cf4-49d0-f154-bd459380ba2a"
      },
      "execution_count": 23,
      "outputs": [
        {
          "output_type": "stream",
          "name": "stdout",
          "text": [
            "Primera calificacion: 100\n",
            "Segunda calificacion: 100\n",
            "Tercera calificacion: 100\n",
            "Cuarta calificacion: 50\n",
            "Quinta calificacion: 100\n",
            "La calificacion mas baja fue: 50.0\n",
            "El promedio final es: 75.0\n"
          ]
        }
      ]
    },
    {
      "cell_type": "markdown",
      "source": [
        "5.- Programa en Python que sirva para el juego del CHINCHAMPU (Piedra, Papel, Tijera) para 1 jugador y la computadora."
      ],
      "metadata": {
        "id": "4kEqsMmkBqsX"
      }
    },
    {
      "cell_type": "code",
      "source": [
        "import random\n",
        "try:\n",
        "    print(\"1.-Piedra.\")\n",
        "    print(\"2.-Papel.\")\n",
        "    print(\"3.-Tijera.\")\n",
        "    \n",
        "    op_Usuario = int(input(\"Elige el numero de tu opcion: \"))\n",
        "    op_Compu = random.randint(1,3)\n",
        "\n",
        "    if(op_Usuario == 1):\n",
        "        print(\"Elegiste piedra.\")\n",
        "        if(op_Compu == 1):\n",
        "            print(\"La computadora eligio piedra.\")\n",
        "            print(\"Empate.\")\n",
        "        else:\n",
        "            if(op_Compu == 2):\n",
        "                print(\"La computadora eligio papel.\")\n",
        "                print(\"Perdiste.\")\n",
        "            else:\n",
        "                print(\"La computadora eligio tijeras.\")\n",
        "                print(\"Ganaste.\")\n",
        "\n",
        "    elif(op_Usuario == 2):\n",
        "        print(\"Elegiste papel.\")\n",
        "        if(op_Compu == 1):\n",
        "            print(\"La computadora eligio piedra.\")\n",
        "            print(\"Ganaste.\")\n",
        "        else:\n",
        "            if(op_Compu == 2):\n",
        "                print(\"La computadora eligio papel.\")\n",
        "                print(\"Empate.\")\n",
        "            else:\n",
        "                print(\"La computadora eligio tijeras.\")\n",
        "                print(\"Perdiste.\")\n",
        "\n",
        "    elif(op_Usuario == 3):\n",
        "        print(\"Elegiste tijeras.\")\n",
        "        if(op_Compu == 1):\n",
        "            print(\"La computadora eligio piedra.\")\n",
        "            print(\"Perdiste.\")\n",
        "        else:\n",
        "            if(op_Compu == 2):\n",
        "                print(\"La computadora eligio papel.\")\n",
        "                print(\"Ganaste.\")\n",
        "            else:\n",
        "                print(\"La computadora eligio tijeras.\")\n",
        "                print(\"Empate.\")\n",
        "    \n",
        "    elif(op_Usuario<1 and op_Usuario>3):\n",
        "        print(\"Introduce el numero de una de las opciones dadas.\")\n",
        "\n",
        "except:\n",
        "    print(\"Introduce el numero de una de las opciones dadas.\")\n"
      ],
      "metadata": {
        "colab": {
          "base_uri": "https://localhost:8080/"
        },
        "id": "QdZqyygO2j0T",
        "outputId": "f20c4e6c-948f-4c17-a92c-db9bf15d59e0"
      },
      "execution_count": 24,
      "outputs": [
        {
          "output_type": "stream",
          "name": "stdout",
          "text": [
            "1.-Piedra.\n",
            "2.-Papel.\n",
            "3.-Tijera.\n",
            "Elige el numero de tu opcion: 3\n",
            "Elegiste tijeras.\n",
            "La computadora eligio piedra.\n",
            "Perdiste.\n"
          ]
        }
      ]
    },
    {
      "cell_type": "code",
      "source": [],
      "metadata": {
        "id": "U_Q-PNAa6_1c"
      },
      "execution_count": 13,
      "outputs": []
    },
    {
      "cell_type": "markdown",
      "source": [
        "6.- Programa en Python que lea 4 números enteros desplegar cuales el menor, cual es mayor."
      ],
      "metadata": {
        "id": "N9usxq1bBvRn"
      }
    },
    {
      "cell_type": "code",
      "source": [
        "try:\n",
        "    num1 = int(input(\"Introduce el primer numero: \"))\n",
        "    num2 = int(input(\"Introduce el primer numero: \"))\n",
        "    num3 = int(input(\"Introduce el primer numero: \"))\n",
        "    num4 = int(input(\"Introduce el primer numero: \"))\n",
        "\n",
        "    print(f\"El numero mayor es: {max(num1, num2, num3, num4)}\")\n",
        "    print(f\"El numero menor es: {min(num1, num2, num3, num4)}\")\n",
        "\n",
        "except:\n",
        "    print(\"Introduce solo numero enteros!\")"
      ],
      "metadata": {
        "colab": {
          "base_uri": "https://localhost:8080/"
        },
        "id": "9WVRbeFRt3Jt",
        "outputId": "ded5bcda-eeaa-468f-a64f-83c7bb265684"
      },
      "execution_count": 3,
      "outputs": [
        {
          "output_type": "stream",
          "name": "stdout",
          "text": [
            "Introduce el primer numero: rr\n",
            "Introduce solo numero enteros!\n"
          ]
        }
      ]
    },
    {
      "cell_type": "markdown",
      "source": [
        "7.- Programa en Python que sirva para calcular el área de un triangulo, los datos de entrada deben ser forzosamente de tipo real."
      ],
      "metadata": {
        "id": "ILOA9kLrBykn"
      }
    },
    {
      "cell_type": "code",
      "source": [
        "try:\n",
        "    print(\"Los datos tienen que ser forzosamente de tipo real!\")\n",
        "    base = int(input(\"Introduce la medida de la base: \"))\n",
        "    altura = int(input(\"Introduce la medida de la altura: \"))\n",
        "\n",
        "    area = (base*altura) / 2\n",
        "    print(f\"El area del triangulo es: {area}\")\n",
        "\n",
        "except ValueError:\n",
        "    print(\"Introduce solo numeros de tipo real.\")\n"
      ],
      "metadata": {
        "colab": {
          "base_uri": "https://localhost:8080/"
        },
        "id": "XTmt_9G1wnbK",
        "outputId": "9d3fb1f7-ab9f-4822-8338-7612d81d362a"
      },
      "execution_count": 25,
      "outputs": [
        {
          "output_type": "stream",
          "name": "stdout",
          "text": [
            "Los datos tienen que ser forzosamente de tipo real!\n",
            "Introduce la medida de la base: 4\n",
            "Introduce la medida de la altura: 3\n",
            "El area del triangulo es: 6.0\n"
          ]
        }
      ]
    },
    {
      "cell_type": "markdown",
      "source": [
        "8.- Programa en Python que sirva para calcular el área de un circulo."
      ],
      "metadata": {
        "id": "542J7pNJB1Df"
      }
    },
    {
      "cell_type": "code",
      "source": [
        "try:\n",
        "    radio = float(input(\"Introduce la medida del radio en centimetros: \"))\n",
        "    \n",
        "    area = 3.1416 * pow(radio,2)\n",
        "    print(f\"El area del circulo es: {round(area,2)} cm^2\")\n",
        "\n",
        "except ValueError:\n",
        "    print(\"Introduce solo numeros.\")"
      ],
      "metadata": {
        "colab": {
          "base_uri": "https://localhost:8080/"
        },
        "id": "we5YfO9q0zlZ",
        "outputId": "6e7ae0c8-37f0-478e-d84b-5e3e782c04b8"
      },
      "execution_count": 26,
      "outputs": [
        {
          "output_type": "stream",
          "name": "stdout",
          "text": [
            "Introduce la medida del radio en centimetros: 5\n",
            "El area del circulo es: 78.54 cm^2\n"
          ]
        }
      ]
    }
  ]
}